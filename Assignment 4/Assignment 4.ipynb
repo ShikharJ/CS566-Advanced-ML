{
 "cells": [
  {
   "cell_type": "markdown",
   "metadata": {
    "colab_type": "text",
    "id": "fgOC3XmTB_Vf"
   },
   "source": [
    "# Importing libraries"
   ]
  },
  {
   "cell_type": "code",
   "execution_count": 1,
   "metadata": {
    "colab": {
     "base_uri": "https://localhost:8080/",
     "height": 228
    },
    "colab_type": "code",
    "id": "tO3evS2rUece",
    "outputId": "d9cef53e-49a0-4a47-fd02-1330fa906082"
   },
   "outputs": [
    {
     "name": "stdout",
     "output_type": "stream",
     "text": [
      "Collecting git+https://github.com/erikavaris/tokenizer.git\n",
      "  Cloning https://github.com/erikavaris/tokenizer.git to /tmp/pip-req-build-xx13naft\n",
      "  Running command git clone -q https://github.com/erikavaris/tokenizer.git /tmp/pip-req-build-xx13naft\n",
      "Requirement already satisfied (use --upgrade to upgrade): tokenizer==1.0.1 from git+https://github.com/erikavaris/tokenizer.git in /usr/local/lib/python3.6/dist-packages\n",
      "Requirement already satisfied: nltk in /usr/local/lib/python3.6/dist-packages (from tokenizer==1.0.1) (3.2.5)\n",
      "Requirement already satisfied: six in /usr/local/lib/python3.6/dist-packages (from nltk->tokenizer==1.0.1) (1.12.0)\n",
      "Building wheels for collected packages: tokenizer\n",
      "  Building wheel for tokenizer (setup.py) ... \u001b[?25l\u001b[?25hdone\n",
      "  Created wheel for tokenizer: filename=tokenizer-1.0.1-cp36-none-any.whl size=12978 sha256=07560f4295491284471228998270484b39eb5fe3bff7391dd962a2acaccd77c3\n",
      "  Stored in directory: /tmp/pip-ephem-wheel-cache-5ok5ujvp/wheels/47/e7/9b/7f3e9b2989a5600b42ffbcc0fd8687562b1738f585f6bd92fa\n",
      "Successfully built tokenizer\n"
     ]
    }
   ],
   "source": [
    "# Install tokenizer tool.\n",
    "!pip install git+https://github.com/erikavaris/tokenizer.git"
   ]
  },
  {
   "cell_type": "code",
   "execution_count": 2,
   "metadata": {
    "colab": {
     "base_uri": "https://localhost:8080/",
     "height": 124
    },
    "colab_type": "code",
    "id": "rm5AbHL2UjCq",
    "outputId": "590b4cd1-60ac-4e9e-dc77-0028f87239af"
   },
   "outputs": [
    {
     "name": "stdout",
     "output_type": "stream",
     "text": [
      "[nltk_data] Downloading package stopwords to /root/nltk_data...\n",
      "[nltk_data]   Package stopwords is already up-to-date!\n"
     ]
    },
    {
     "name": "stderr",
     "output_type": "stream",
     "text": [
      "/usr/local/lib/python3.6/dist-packages/statsmodels/tools/_testing.py:19: FutureWarning: pandas.util.testing is deprecated. Use the functions in the public API at pandas.testing instead.\n",
      "  import pandas.util.testing as tm\n",
      "Using TensorFlow backend.\n"
     ]
    }
   ],
   "source": [
    "# Import essential libraries.\n",
    "import os\n",
    "import gensim\n",
    "import nltk\n",
    "nltk.download('stopwords')\n",
    "import string\n",
    "import numpy as np\n",
    "import pandas as pd\n",
    "from gensim.models.word2vec import Word2Vec\n",
    "from tokenizer import tokenizer\n",
    "import seaborn as sns\n",
    "import matplotlib.pyplot as plt\n",
    "from sklearn.preprocessing import scale\n",
    "from nltk.corpus import stopwords\n",
    "import tensorflow as tf\n",
    "from keras.preprocessing.text import Tokenizer\n",
    "from keras.preprocessing.sequence import pad_sequences\n",
    "from keras.utils import to_categorical\n",
    "from keras.models import Sequential, Model\n",
    "from keras.layers.embeddings import Embedding\n",
    "from keras.initializers import Constant\n",
    "from keras.preprocessing import sequence\n",
    "from keras.layers import Dense, Flatten, Dropout, Input, LSTM, RepeatVector, TimeDistributed\n",
    "from sklearn.metrics import confusion_matrix, classification_report"
   ]
  },
  {
   "cell_type": "code",
   "execution_count": 66,
   "metadata": {
    "colab": {
     "base_uri": "https://localhost:8080/",
     "height": 124
    },
    "colab_type": "code",
    "id": "xdQIEuRnaVv4",
    "outputId": "00f7ff0c-119f-4f0d-e94e-0ed6b0a0ca79"
   },
   "outputs": [
    {
     "name": "stdout",
     "output_type": "stream",
     "text": [
      "Go to this URL in a browser: https://accounts.google.com/o/oauth2/auth?client_id=947318989803-6bn6qk8qdgf4n4g3pfee6491hc0brc4i.apps.googleusercontent.com&redirect_uri=urn%3aietf%3awg%3aoauth%3a2.0%3aoob&response_type=code&scope=email%20https%3a%2f%2fwww.googleapis.com%2fauth%2fdocs.test%20https%3a%2f%2fwww.googleapis.com%2fauth%2fdrive%20https%3a%2f%2fwww.googleapis.com%2fauth%2fdrive.photos.readonly%20https%3a%2f%2fwww.googleapis.com%2fauth%2fpeopleapi.readonly\n",
      "\n",
      "Enter your authorization code:\n",
      "··········\n",
      "Mounted at /content/drive\n"
     ]
    }
   ],
   "source": [
    "# Download the pre-trained GLoVe embeddings.\n",
    "from google.colab import drive\n",
    "drive.mount('/content/drive')"
   ]
  },
  {
   "cell_type": "code",
   "execution_count": 86,
   "metadata": {
    "colab": {
     "base_uri": "https://localhost:8080/",
     "height": 69
    },
    "colab_type": "code",
    "id": "ODo0caHcdA7O",
    "outputId": "95119f76-2f4d-48e7-adff-1e0cf4921489"
   },
   "outputs": [
    {
     "name": "stdout",
     "output_type": "stream",
     "text": [
      "Archive:  drive/My Drive/glove.twitter.27B.200d.txt.zip\n",
      "replace glove.twitter.27B.200d.txt? [y]es, [n]o, [A]ll, [N]one, [r]ename: y\n",
      "  inflating: glove.twitter.27B.200d.txt  \n"
     ]
    }
   ],
   "source": [
    "!unzip drive/My\\ Drive/glove.twitter.27B.200d.txt.zip"
   ]
  },
  {
   "cell_type": "markdown",
   "metadata": {
    "colab_type": "text",
    "id": "y9nzmpjKBn5P"
   },
   "source": [
    "# Data processing"
   ]
  },
  {
   "cell_type": "code",
   "execution_count": 0,
   "metadata": {
    "colab": {},
    "colab_type": "code",
    "id": "DVL4pUQKNSAc"
   },
   "outputs": [],
   "source": [
    "# Read the training dataset from the file.\n",
    "df = pd.read_csv('twitter-train.tsv', sep = '\\t', names = [\"tweet_id\", \"label\", \"tweet\"], index_col = 0)\n",
    "X_train = df.iloc[:, [False, True]]\n",
    "Y_train = df.loc[:, [True, False]]"
   ]
  },
  {
   "cell_type": "code",
   "execution_count": 0,
   "metadata": {
    "colab": {},
    "colab_type": "code",
    "id": "dNgSkkvGCP-O"
   },
   "outputs": [],
   "source": [
    "# Read the validation dataset from the file.\n",
    "df = pd.read_csv('twitter-dev.tsv', sep = '\\t', names = [\"tweet_id\", \"label\", \"tweet\"], index_col = 0)\n",
    "X_val = df.iloc[:, [False, True]]\n",
    "Y_val = df.loc[:, [True, False]]"
   ]
  },
  {
   "cell_type": "code",
   "execution_count": 0,
   "metadata": {
    "colab": {},
    "colab_type": "code",
    "id": "Kg8R2svxQntd"
   },
   "outputs": [],
   "source": [
    "# Read the test dataset from the file.\n",
    "df = pd.read_csv('twitter-test.tsv', sep = '\\t', names = [\"tweet_id\", \"label\", \"tweet\"], index_col = 0)\n",
    "X_test = df.iloc[:, [False, True]]\n",
    "Y_test = df.loc[:, [True, False]]"
   ]
  },
  {
   "cell_type": "markdown",
   "metadata": {
    "colab_type": "text",
    "id": "33h92JsZSA-0"
   },
   "source": [
    "# Creating word embeddings"
   ]
  },
  {
   "cell_type": "code",
   "execution_count": 0,
   "metadata": {
    "colab": {},
    "colab_type": "code",
    "id": "vKTuGtYuUdvb"
   },
   "outputs": [],
   "source": [
    "# Initialize the tokenizer.\n",
    "alphabetical = set(string.ascii_lowercase)\n",
    "T = tokenizer.TweetTokenizer(preserve_handles = False, preserve_hashes = True,\n",
    "                             preserve_case = False, preserve_url = False,\n",
    "                             preserve_emoji = False, regularize = True)"
   ]
  },
  {
   "cell_type": "code",
   "execution_count": 0,
   "metadata": {
    "colab": {},
    "colab_type": "code",
    "id": "xntcQIutt0V4"
   },
   "outputs": [],
   "source": [
    "# Function for checking the string for alpha-numeric characters.\n",
    "def alphabetic(x):\n",
    "    for alpha in x:\n",
    "        if not alpha.isalnum():\n",
    "            return False\n",
    "    \n",
    "    return True"
   ]
  },
  {
   "cell_type": "code",
   "execution_count": 0,
   "metadata": {
    "colab": {},
    "colab_type": "code",
    "id": "yORtH1CQU75m"
   },
   "outputs": [],
   "source": [
    "# Function for processing and cleaning the tweets.\n",
    "def tweet_tokenize(tweet):\n",
    "    tweet = tweet.replace('\\\\u2019', \"'\")\n",
    "    tweet = tweet.replace('\\\\u002c', ',')\n",
    "    text = T.tokenize(tweet)\n",
    "    text = filter(lambda x: alphabetic(x), text)\n",
    "    text = filter(lambda x: x not in ['rt'], text)\n",
    "    text = filter(lambda x: x not in alphabetical, text)\n",
    "    tweet = \" \".join(text)\n",
    "\n",
    "    return tweet"
   ]
  },
  {
   "cell_type": "code",
   "execution_count": 0,
   "metadata": {
    "colab": {},
    "colab_type": "code",
    "id": "gZ-jxvLZU707"
   },
   "outputs": [],
   "source": [
    "# Clean the datasets.\n",
    "X_train['cleaned_tweet'] = X_train.apply(lambda row: tweet_tokenize(row['tweet']), axis = 1)\n",
    "X_val['cleaned_tweet'] = X_val.apply(lambda row: tweet_tokenize(row['tweet']), axis = 1)\n",
    "X_test['cleaned_tweet'] = X_test.apply(lambda row: tweet_tokenize(row['tweet']), axis = 1)"
   ]
  },
  {
   "cell_type": "code",
   "execution_count": 10,
   "metadata": {
    "colab": {
     "base_uri": "https://localhost:8080/",
     "height": 72
    },
    "colab_type": "code",
    "id": "ppgaFNfVqKu-",
    "outputId": "935220a7-03a3-44c9-87de-bf2bf5b762a5"
   },
   "outputs": [
    {
     "name": "stderr",
     "output_type": "stream",
     "text": [
      "/usr/local/lib/python3.6/dist-packages/smart_open/smart_open_lib.py:253: UserWarning: This function is deprecated, use smart_open.open instead. See the migration notes for details: https://github.com/RaRe-Technologies/smart_open/blob/master/README.rst#migrating-to-the-new-open-function\n",
      "  'See the migration notes for details: %s' % _MIGRATION_NOTES_URL\n"
     ]
    }
   ],
   "source": [
    "# Initialize the word2vec model.\n",
    "embedding_dimension = 200\n",
    "tweet_word2vec = Word2Vec(sentences = [x.split() for x in X_train['cleaned_tweet'].append(X_val['cleaned_tweet'])],\n",
    "                          size = embedding_dimension, window = 5, workers = 4, min_count = 4, iter = 5)\n",
    "words = list(tweet_word2vec.wv.vocab)"
   ]
  },
  {
   "cell_type": "code",
   "execution_count": 0,
   "metadata": {
    "colab": {},
    "colab_type": "code",
    "id": "Rhiil9TpNOrY"
   },
   "outputs": [],
   "source": [
    "# Generate the word vectors for the individual tokens in the tweet.\n",
    "top_words = len(tweet_word2vec.wv.vocab)\n",
    "max_length = 35\n",
    "\n",
    "tokenizer = Tokenizer(num_words = top_words)\n",
    "tokenizer.fit_on_texts([x for x in X_train['cleaned_tweet'].append(X_val['cleaned_tweet'])])\n",
    "sequences_train = tokenizer.texts_to_sequences([x for x in X_train['cleaned_tweet']])\n",
    "sequences_test = tokenizer.texts_to_sequences([x for x in X_test['cleaned_tweet']])\n",
    "sequences_val = tokenizer.texts_to_sequences([x for x in X_val['cleaned_tweet']])\n",
    "\n",
    "XTrain = sequence.pad_sequences(sequences_train, padding = 'post', maxlen = max_length)\n",
    "XTest = sequence.pad_sequences(sequences_test, padding = 'post', maxlen = max_length)\n",
    "XVal = sequence.pad_sequences(sequences_val, padding = 'post', maxlen = max_length)"
   ]
  },
  {
   "cell_type": "code",
   "execution_count": 13,
   "metadata": {
    "colab": {
     "base_uri": "https://localhost:8080/",
     "height": 52
    },
    "colab_type": "code",
    "id": "3Dxf8CZiaVre",
    "outputId": "29e4c6da-2955-4bf5-eea8-3982c264b987"
   },
   "outputs": [
    {
     "name": "stdout",
     "output_type": "stream",
     "text": [
      "Loading Glove Model\n",
      "1193514  Words Loaded!\n"
     ]
    }
   ],
   "source": [
    "# Load the GLoVe model.\n",
    "print(\"Loading Glove Model\")\n",
    "f = open('glove.twitter.27B.200d.txt', 'r')\n",
    "gloveModel = {}\n",
    "\n",
    "for line in f:\n",
    "    splitLines = line.split()\n",
    "    word = splitLines[0]\n",
    "    wordEmbedding = np.array([float(value) for value in splitLines[1 : ]])\n",
    "    gloveModel[word] = wordEmbedding\n",
    "\n",
    "print(len(gloveModel),\" Words Loaded!\")"
   ]
  },
  {
   "cell_type": "code",
   "execution_count": 0,
   "metadata": {
    "colab": {},
    "colab_type": "code",
    "id": "uC3zgGOpbu7i"
   },
   "outputs": [],
   "source": [
    "# Search for suitable word tokens from the input text.\n",
    "num_words = top_words + 1\n",
    "embedding_matrix = np.zeros((num_words, embedding_dimension))\n",
    "count = 0\n",
    "\n",
    "for i, word in tokenizer.index_word.items():\n",
    "    if i > top_words:\n",
    "        break\n",
    "\n",
    "    embedding_vector = gloveModel.get(word)\n",
    "\n",
    "    if embedding_vector is not None:\n",
    "        embedding_matrix[i] = embedding_vector.astype(float)\n",
    "        count += 1"
   ]
  },
  {
   "cell_type": "code",
   "execution_count": 0,
   "metadata": {
    "colab": {},
    "colab_type": "code",
    "id": "OmjTEzlUO7rV"
   },
   "outputs": [],
   "source": [
    "# Function for creating the word vectors to the corresponding input text.\n",
    "def vectorizer(X):\n",
    "    vectors = []\n",
    "    for x in X:\n",
    "        vector = []\n",
    "        for i in x:\n",
    "            vector.append(embedding_matrix[i])\n",
    "        vectors.append(np.asarray(vector))\n",
    "    return np.asarray(vectors)"
   ]
  },
  {
   "cell_type": "code",
   "execution_count": 0,
   "metadata": {
    "colab": {},
    "colab_type": "code",
    "id": "uqyaP2XqM7JJ"
   },
   "outputs": [],
   "source": [
    "XTrainWV = vectorizer(XTrain)\n",
    "XValWV = vectorizer(XVal)\n",
    "XTestWV = vectorizer(XTest)"
   ]
  },
  {
   "cell_type": "code",
   "execution_count": 0,
   "metadata": {
    "colab": {},
    "colab_type": "code",
    "id": "7ELGuWZu428Q"
   },
   "outputs": [],
   "source": [
    "# Function for labelling the neutral, positive and negative sentiments as integers.\n",
    "def labeller(x):\n",
    "    if x == 'neutral':\n",
    "        return 0\n",
    "    if x == 'positive':\n",
    "        return 1\n",
    "    if x == 'negative':\n",
    "        return 2"
   ]
  },
  {
   "cell_type": "code",
   "execution_count": 18,
   "metadata": {
    "colab": {
     "base_uri": "https://localhost:8080/",
     "height": 121
    },
    "colab_type": "code",
    "id": "6kFgfg7fU7hY",
    "outputId": "6072f906-4301-44bc-b2ac-71a510ccdb18"
   },
   "outputs": [
    {
     "name": "stderr",
     "output_type": "stream",
     "text": [
      "/usr/local/lib/python3.6/dist-packages/ipykernel_launcher.py:6: SettingWithCopyWarning: \n",
      "A value is trying to be set on a copy of a slice from a DataFrame.\n",
      "Try using .loc[row_indexer,col_indexer] = value instead\n",
      "\n",
      "See the caveats in the documentation: https://pandas.pydata.org/pandas-docs/stable/user_guide/indexing.html#returning-a-view-versus-a-copy\n",
      "  \n"
     ]
    }
   ],
   "source": [
    "# Process the labels and change to one-hot vectors.\n",
    "Y_train['label'] = Y_train['label'].apply(lambda x: labeller(x))\n",
    "YTrain = to_categorical(Y_train['label'].values)\n",
    "Y_val['label'] = Y_val['label'].apply(lambda x: labeller(x))\n",
    "YVal = to_categorical(Y_val['label'].values)\n",
    "Y_test['label'] = Y_test['label'].apply(lambda x: labeller(x))\n",
    "YTest = to_categorical(Y_test['label'].values)"
   ]
  },
  {
   "cell_type": "markdown",
   "metadata": {
    "colab_type": "text",
    "id": "maGhbOvYfu_Z"
   },
   "source": [
    "# Creating and Fitting the Models"
   ]
  },
  {
   "cell_type": "markdown",
   "metadata": {},
   "source": [
    "## We implement three fundamentally different approaches to solving our problem, and provide the results on each approach."
   ]
  },
  {
   "cell_type": "markdown",
   "metadata": {},
   "source": [
    "|                      Approach                     |       Accuracy       |\n",
    "|   ---------------------------------------------   |  ------------------  |\n",
    "|  1) Separately Trained Autoencoder and Predictor  |        65.15%        |\n",
    "|  2) Multi-Task Learning Based Autoencoder         |        69.81%        |\n",
    "|  3) LSTM Autoencoder                              |        68.65%        |"
   ]
  },
  {
   "cell_type": "markdown",
   "metadata": {
    "colab_type": "text",
    "id": "7wsQ1TI2nfbz"
   },
   "source": [
    "# 1) Separately Trained Autoencoder and Predictor"
   ]
  },
  {
   "cell_type": "markdown",
   "metadata": {},
   "source": [
    "We train an autoencoder to generate low-dimensional embeddings from the input text, and use these low-dimensional embeddings to predict the sentiment of the input text using a separate FFN-based predictor."
   ]
  },
  {
   "cell_type": "markdown",
   "metadata": {
    "colab_type": "text",
    "id": "kkIiP2CpNwOR"
   },
   "source": [
    "## Autoencoder Network"
   ]
  },
  {
   "cell_type": "code",
   "execution_count": 19,
   "metadata": {
    "colab": {
     "base_uri": "https://localhost:8080/",
     "height": 399
    },
    "colab_type": "code",
    "id": "RijjZL1fhIFF",
    "outputId": "ab5329e0-bfd0-4349-cc7f-fba805ff5cbf"
   },
   "outputs": [
    {
     "name": "stdout",
     "output_type": "stream",
     "text": [
      "Model: \"sequential_1\"\n",
      "_________________________________________________________________\n",
      "Layer (type)                 Output Shape              Param #   \n",
      "=================================================================\n",
      "dense_1 (Dense)              (None, 35, 200)           40200     \n",
      "_________________________________________________________________\n",
      "dropout_1 (Dropout)          (None, 35, 200)           0         \n",
      "_________________________________________________________________\n",
      "dense_2 (Dense)              (None, 35, 100)           20100     \n",
      "_________________________________________________________________\n",
      "dropout_2 (Dropout)          (None, 35, 100)           0         \n",
      "_________________________________________________________________\n",
      "dense_3 (Dense)              (None, 35, 200)           20200     \n",
      "_________________________________________________________________\n",
      "dropout_3 (Dropout)          (None, 35, 200)           0         \n",
      "_________________________________________________________________\n",
      "dense_4 (Dense)              (None, 35, 200)           40200     \n",
      "=================================================================\n",
      "Total params: 120,700\n",
      "Trainable params: 120,700\n",
      "Non-trainable params: 0\n",
      "_________________________________________________________________\n"
     ]
    }
   ],
   "source": [
    "# Simple Autoencoder Model.\n",
    "autoencoder = Sequential()\n",
    "autoencoder.add(Dense(200, input_shape = (max_length, embedding_dimension,), activation = 'tanh'))\n",
    "autoencoder.add(Dropout(0.2))\n",
    "autoencoder.add(Dense(100, activation = 'tanh'))\n",
    "autoencoder.add(Dropout(0.2))\n",
    "autoencoder.add(Dense(200, activation = 'tanh'))\n",
    "autoencoder.add(Dropout(0.2))\n",
    "autoencoder.add(Dense(embedding_dimension, activation = 'tanh'))\n",
    "autoencoder.compile(loss = 'mse', optimizer = 'adam', metrics = ['accuracy'])\n",
    "autoencoder.summary()"
   ]
  },
  {
   "cell_type": "markdown",
   "metadata": {
    "colab_type": "text",
    "id": "-uUbTRkQcH59"
   },
   "source": [
    "## Encoder Network"
   ]
  },
  {
   "cell_type": "code",
   "execution_count": 20,
   "metadata": {
    "colab": {
     "base_uri": "https://localhost:8080/",
     "height": 295
    },
    "colab_type": "code",
    "id": "VQMS68Y7K9G2",
    "outputId": "9aeb2733-b596-407c-f68e-2316c71801fb"
   },
   "outputs": [
    {
     "name": "stdout",
     "output_type": "stream",
     "text": [
      "Model: \"model_1\"\n",
      "_________________________________________________________________\n",
      "Layer (type)                 Output Shape              Param #   \n",
      "=================================================================\n",
      "input_1 (InputLayer)         (None, 35, 200)           0         \n",
      "_________________________________________________________________\n",
      "dense_1 (Dense)              (None, 35, 200)           40200     \n",
      "_________________________________________________________________\n",
      "dropout_1 (Dropout)          (None, 35, 200)           0         \n",
      "_________________________________________________________________\n",
      "dense_2 (Dense)              (None, 35, 100)           20100     \n",
      "=================================================================\n",
      "Total params: 60,300\n",
      "Trainable params: 60,300\n",
      "Non-trainable params: 0\n",
      "_________________________________________________________________\n"
     ]
    }
   ],
   "source": [
    "# Re-use the encoder model from the above autoencoder.\n",
    "input_text = Input(shape = (max_length, embedding_dimension,))\n",
    "encoder_layer1 = autoencoder.layers[0]\n",
    "encoder_layer2 = autoencoder.layers[1]\n",
    "encoder_layer3 = autoencoder.layers[2]\n",
    "encoder = Model(input_text, encoder_layer3(encoder_layer2(encoder_layer1(input_text))))\n",
    "encoder.summary()"
   ]
  },
  {
   "cell_type": "code",
   "execution_count": 21,
   "metadata": {
    "colab": {
     "base_uri": "https://localhost:8080/",
     "height": 746
    },
    "colab_type": "code",
    "id": "MnjgQW4jZDOG",
    "outputId": "a504757f-2c9e-4e69-e186-509cf3aec8a8"
   },
   "outputs": [
    {
     "name": "stdout",
     "output_type": "stream",
     "text": [
      "Train on 9684 samples, validate on 1654 samples\n",
      "Epoch 1/20\n",
      "9684/9684 [==============================] - 8s 820us/step - loss: 0.1058 - accuracy: 0.1217 - val_loss: 0.0734 - val_accuracy: 0.2095\n",
      "Epoch 2/20\n",
      "9684/9684 [==============================] - 8s 796us/step - loss: 0.0786 - accuracy: 0.1828 - val_loss: 0.0656 - val_accuracy: 0.2388\n",
      "Epoch 3/20\n",
      "9684/9684 [==============================] - 8s 802us/step - loss: 0.0721 - accuracy: 0.2013 - val_loss: 0.0621 - val_accuracy: 0.2573\n",
      "Epoch 4/20\n",
      "9684/9684 [==============================] - 8s 806us/step - loss: 0.0691 - accuracy: 0.2097 - val_loss: 0.0601 - val_accuracy: 0.2557\n",
      "Epoch 5/20\n",
      "9684/9684 [==============================] - 8s 810us/step - loss: 0.0673 - accuracy: 0.2143 - val_loss: 0.0589 - val_accuracy: 0.2579\n",
      "Epoch 6/20\n",
      "9684/9684 [==============================] - 8s 812us/step - loss: 0.0660 - accuracy: 0.2169 - val_loss: 0.0580 - val_accuracy: 0.2601\n",
      "Epoch 7/20\n",
      "9684/9684 [==============================] - 8s 800us/step - loss: 0.0651 - accuracy: 0.2180 - val_loss: 0.0574 - val_accuracy: 0.2623\n",
      "Epoch 8/20\n",
      "9684/9684 [==============================] - 8s 796us/step - loss: 0.0645 - accuracy: 0.2199 - val_loss: 0.0570 - val_accuracy: 0.2610\n",
      "Epoch 9/20\n",
      "9684/9684 [==============================] - 8s 798us/step - loss: 0.0640 - accuracy: 0.2201 - val_loss: 0.0566 - val_accuracy: 0.2623\n",
      "Epoch 10/20\n",
      "9684/9684 [==============================] - 8s 798us/step - loss: 0.0636 - accuracy: 0.2197 - val_loss: 0.0563 - val_accuracy: 0.2633\n",
      "Epoch 11/20\n",
      "9684/9684 [==============================] - 8s 799us/step - loss: 0.0633 - accuracy: 0.2211 - val_loss: 0.0560 - val_accuracy: 0.2633\n",
      "Epoch 12/20\n",
      "9684/9684 [==============================] - 8s 806us/step - loss: 0.0630 - accuracy: 0.2203 - val_loss: 0.0558 - val_accuracy: 0.2625\n",
      "Epoch 13/20\n",
      "9684/9684 [==============================] - 8s 875us/step - loss: 0.0628 - accuracy: 0.2201 - val_loss: 0.0557 - val_accuracy: 0.2618\n",
      "Epoch 14/20\n",
      "9684/9684 [==============================] - 8s 796us/step - loss: 0.0627 - accuracy: 0.2202 - val_loss: 0.0555 - val_accuracy: 0.2604\n",
      "Epoch 15/20\n",
      "9684/9684 [==============================] - 8s 797us/step - loss: 0.0626 - accuracy: 0.2202 - val_loss: 0.0554 - val_accuracy: 0.2602\n",
      "Epoch 16/20\n",
      "9684/9684 [==============================] - 8s 792us/step - loss: 0.0624 - accuracy: 0.2204 - val_loss: 0.0553 - val_accuracy: 0.2571\n",
      "Epoch 17/20\n",
      "9684/9684 [==============================] - 8s 790us/step - loss: 0.0624 - accuracy: 0.2203 - val_loss: 0.0552 - val_accuracy: 0.2597\n",
      "Epoch 18/20\n",
      "9684/9684 [==============================] - 8s 791us/step - loss: 0.0623 - accuracy: 0.2201 - val_loss: 0.0551 - val_accuracy: 0.2595\n",
      "Epoch 19/20\n",
      "9684/9684 [==============================] - 8s 794us/step - loss: 0.0622 - accuracy: 0.2208 - val_loss: 0.0550 - val_accuracy: 0.2601\n",
      "Epoch 20/20\n",
      "9684/9684 [==============================] - 8s 801us/step - loss: 0.0621 - accuracy: 0.2203 - val_loss: 0.0550 - val_accuracy: 0.2592\n"
     ]
    },
    {
     "data": {
      "text/plain": [
       "<keras.callbacks.callbacks.History at 0x7f553b632f28>"
      ]
     },
     "execution_count": 21,
     "metadata": {
      "tags": []
     },
     "output_type": "execute_result"
    }
   ],
   "source": [
    "autoencoder.fit(XTrainWV, XTrainWV, batch_size = 256, epochs = 20, validation_data = (XValWV, XValWV))"
   ]
  },
  {
   "cell_type": "code",
   "execution_count": 0,
   "metadata": {
    "colab": {},
    "colab_type": "code",
    "id": "xDsdWYoCZXqM"
   },
   "outputs": [],
   "source": [
    "# Predict the low-dimensional embeddings through the encoder.\n",
    "XTrain = encoder.predict(XTrainWV)\n",
    "XVal = encoder.predict(XValWV)\n",
    "XTest = encoder.predict(XTestWV)"
   ]
  },
  {
   "cell_type": "markdown",
   "metadata": {
    "colab_type": "text",
    "id": "B5Hz2tvphKaY"
   },
   "source": [
    "## Feed-Forward Network Based Prediction"
   ]
  },
  {
   "cell_type": "code",
   "execution_count": 23,
   "metadata": {
    "colab": {
     "base_uri": "https://localhost:8080/",
     "height": 1000
    },
    "colab_type": "code",
    "id": "8GKiDVj8K8tD",
    "outputId": "17b9b4e0-01e0-4f0e-926f-07e3b6a74952"
   },
   "outputs": [
    {
     "name": "stdout",
     "output_type": "stream",
     "text": [
      "Model: \"sequential_2\"\n",
      "_________________________________________________________________\n",
      "Layer (type)                 Output Shape              Param #   \n",
      "=================================================================\n",
      "dense_5 (Dense)              (None, 35, 25)            2525      \n",
      "_________________________________________________________________\n",
      "flatten_1 (Flatten)          (None, 875)               0         \n",
      "_________________________________________________________________\n",
      "dropout_4 (Dropout)          (None, 875)               0         \n",
      "_________________________________________________________________\n",
      "dense_6 (Dense)              (None, 50)                43800     \n",
      "_________________________________________________________________\n",
      "dropout_5 (Dropout)          (None, 50)                0         \n",
      "_________________________________________________________________\n",
      "dense_7 (Dense)              (None, 10)                510       \n",
      "_________________________________________________________________\n",
      "dropout_6 (Dropout)          (None, 10)                0         \n",
      "_________________________________________________________________\n",
      "dense_8 (Dense)              (None, 3)                 33        \n",
      "=================================================================\n",
      "Total params: 46,868\n",
      "Trainable params: 46,868\n",
      "Non-trainable params: 0\n",
      "_________________________________________________________________\n",
      "Train on 9684 samples, validate on 1654 samples\n",
      "Epoch 1/20\n",
      "9684/9684 [==============================] - 1s 80us/step - loss: 1.0455 - accuracy: 0.4352 - val_loss: 1.0535 - val_accuracy: 0.4480\n",
      "Epoch 2/20\n",
      "9684/9684 [==============================] - 1s 58us/step - loss: 1.0050 - accuracy: 0.4692 - val_loss: 1.0210 - val_accuracy: 0.4819\n",
      "Epoch 3/20\n",
      "9684/9684 [==============================] - 1s 58us/step - loss: 0.9616 - accuracy: 0.5127 - val_loss: 0.9729 - val_accuracy: 0.5248\n",
      "Epoch 4/20\n",
      "9684/9684 [==============================] - 1s 58us/step - loss: 0.9060 - accuracy: 0.5546 - val_loss: 0.9224 - val_accuracy: 0.5435\n",
      "Epoch 5/20\n",
      "9684/9684 [==============================] - 1s 62us/step - loss: 0.8578 - accuracy: 0.5969 - val_loss: 0.8920 - val_accuracy: 0.5798\n",
      "Epoch 6/20\n",
      "9684/9684 [==============================] - 1s 60us/step - loss: 0.8241 - accuracy: 0.6284 - val_loss: 0.8635 - val_accuracy: 0.6022\n",
      "Epoch 7/20\n",
      "9684/9684 [==============================] - 1s 55us/step - loss: 0.7938 - accuracy: 0.6398 - val_loss: 0.8530 - val_accuracy: 0.6082\n",
      "Epoch 8/20\n",
      "9684/9684 [==============================] - 1s 56us/step - loss: 0.7757 - accuracy: 0.6507 - val_loss: 0.8477 - val_accuracy: 0.6197\n",
      "Epoch 9/20\n",
      "9684/9684 [==============================] - 1s 52us/step - loss: 0.7657 - accuracy: 0.6675 - val_loss: 0.8419 - val_accuracy: 0.6233\n",
      "Epoch 10/20\n",
      "9684/9684 [==============================] - 1s 53us/step - loss: 0.7459 - accuracy: 0.6746 - val_loss: 0.8357 - val_accuracy: 0.6270\n",
      "Epoch 11/20\n",
      "9684/9684 [==============================] - 1s 54us/step - loss: 0.7271 - accuracy: 0.6870 - val_loss: 0.8442 - val_accuracy: 0.6403\n",
      "Epoch 12/20\n",
      "9684/9684 [==============================] - 1s 53us/step - loss: 0.7153 - accuracy: 0.6938 - val_loss: 0.8424 - val_accuracy: 0.6306\n",
      "Epoch 13/20\n",
      "9684/9684 [==============================] - 1s 53us/step - loss: 0.7048 - accuracy: 0.6914 - val_loss: 0.8471 - val_accuracy: 0.6294\n",
      "Epoch 14/20\n",
      "9684/9684 [==============================] - 1s 54us/step - loss: 0.6914 - accuracy: 0.7033 - val_loss: 0.8486 - val_accuracy: 0.6306\n",
      "Epoch 15/20\n",
      "9684/9684 [==============================] - 1s 53us/step - loss: 0.6803 - accuracy: 0.7106 - val_loss: 0.8356 - val_accuracy: 0.6385\n",
      "Epoch 16/20\n",
      "9684/9684 [==============================] - 1s 54us/step - loss: 0.6650 - accuracy: 0.7189 - val_loss: 0.8492 - val_accuracy: 0.6312\n",
      "Epoch 17/20\n",
      "9684/9684 [==============================] - 1s 54us/step - loss: 0.6540 - accuracy: 0.7249 - val_loss: 0.8323 - val_accuracy: 0.6312\n",
      "Epoch 18/20\n",
      "9684/9684 [==============================] - 1s 54us/step - loss: 0.6425 - accuracy: 0.7303 - val_loss: 0.8388 - val_accuracy: 0.6451\n",
      "Epoch 19/20\n",
      "9684/9684 [==============================] - 1s 53us/step - loss: 0.6361 - accuracy: 0.7359 - val_loss: 0.8463 - val_accuracy: 0.6348\n",
      "Epoch 20/20\n",
      "9684/9684 [==============================] - 1s 54us/step - loss: 0.6190 - accuracy: 0.7391 - val_loss: 0.8635 - val_accuracy: 0.6306\n"
     ]
    },
    {
     "data": {
      "text/plain": [
       "<keras.callbacks.callbacks.History at 0x7f5528807320>"
      ]
     },
     "execution_count": 23,
     "metadata": {
      "tags": []
     },
     "output_type": "execute_result"
    }
   ],
   "source": [
    "# Simple FFN Model.\n",
    "predictor = Sequential()\n",
    "predictor.add(Dense(25, input_shape = (max_length, 100), activation = 'relu'))\n",
    "predictor.add(Flatten())\n",
    "predictor.add(Dropout(0.2))\n",
    "predictor.add(Dense(50, activation = 'relu'))\n",
    "predictor.add(Dropout(0.2))\n",
    "predictor.add(Dense(10, activation = 'relu'))\n",
    "predictor.add(Dropout(0.2))\n",
    "predictor.add(Dense(3, activation = 'softmax'))\n",
    "predictor.compile(loss = 'categorical_crossentropy', optimizer = 'adam', metrics = ['accuracy'])\n",
    "predictor.summary()\n",
    "predictor.fit(XTrain, YTrain, batch_size = 256, epochs = 20, validation_data = (XVal, YVal))"
   ]
  },
  {
   "cell_type": "code",
   "execution_count": 30,
   "metadata": {
    "colab": {
     "base_uri": "https://localhost:8080/",
     "height": 278
    },
    "colab_type": "code",
    "id": "dN5NHYBohH53",
    "outputId": "668e5b3d-2105-4dc5-e3f9-2be821270ad5"
   },
   "outputs": [
    {
     "name": "stdout",
     "output_type": "stream",
     "text": [
      "3547/3547 [==============================] - 0s 16us/step\n",
      "\n",
      "Results for Separately Trained Auto-Encoder and Predictor\n",
      "Test Loss: 0.79\n",
      "Test Accuracy: 65.15%\n",
      "                precision    recall  f1-score   support\n",
      "\n",
      " Neutral Class       0.59      0.85      0.70      1513\n",
      "Positive Class       0.77      0.56      0.65      1475\n",
      "Negative Class       0.64      0.36      0.46       559\n",
      "\n",
      "      accuracy                           0.65      3547\n",
      "     macro avg       0.67      0.59      0.60      3547\n",
      "  weighted avg       0.67      0.65      0.64      3547\n",
      "\n"
     ]
    }
   ],
   "source": [
    "# Present the various metrics.\n",
    "score = predictor.evaluate(XTest, YTest, batch_size = 256, verbose = 1)\n",
    "print(\"\\nResults for Separately Trained Auto-Encoder and Predictor\")\n",
    "print(\"Test Loss: %.2f\" % (score[0]))\n",
    "print(\"Test Accuracy: %.2f%%\" % (score[1] * 100))\n",
    "\n",
    "YPred = predictor.predict_classes(XTest)\n",
    "print(classification_report(Y_test['label'].values, YPred, target_names = ['Neutral Class', 'Positive Class', 'Negative Class']))"
   ]
  },
  {
   "cell_type": "code",
   "execution_count": 27,
   "metadata": {
    "colab": {
     "base_uri": "https://localhost:8080/",
     "height": 364
    },
    "colab_type": "code",
    "id": "ASX2Mgwo_fam",
    "outputId": "495f1205-82be-4026-f3dd-1d74dde6212d"
   },
   "outputs": [
    {
     "name": "stdout",
     "output_type": "stream",
     "text": [
      "[[1288  172   53]\n",
      " [ 595  822   58]\n",
      " [ 283   75  201]]\n"
     ]
    },
    {
     "data": {
      "text/plain": [
       "[Text(0, 0.5, 'Neutral'), Text(0, 1.5, 'Positive'), Text(0, 2.5, 'Negative')]"
      ]
     },
     "execution_count": 27,
     "metadata": {
      "tags": []
     },
     "output_type": "execute_result"
    },
    {
     "data": {
      "image/png": "[encoded data removed]",
      "text/plain": [
       "<Figure size 432x288 with 2 Axes>"
      ]
     },
     "metadata": {
      "needs_background": "light",
      "tags": []
     },
     "output_type": "display_data"
    }
   ],
   "source": [
    "# Plot the confusion matrix per class.\n",
    "cm = confusion_matrix(Y_test['label'].values, YPred, labels = [0, 1, 2])\n",
    "print(cm)\n",
    "ax = plt.subplot()\n",
    "sns.heatmap(cm, annot = True, ax = ax)\n",
    "ax.set_xlabel('Predicted labels')\n",
    "ax.set_ylabel('True labels')\n",
    "ax.set_title('Confusion Matrix')\n",
    "ax.xaxis.set_ticklabels(['Neutral', 'Positive', 'Negative'])\n",
    "ax.yaxis.set_ticklabels(['Neutral', 'Positive', 'Negative'])"
   ]
  },
  {
   "cell_type": "markdown",
   "metadata": {
    "colab_type": "text",
    "id": "bOSHVm-Ktnb1"
   },
   "source": [
    "# 2) Multi Task Learning Approach"
   ]
  },
  {
   "cell_type": "markdown",
   "metadata": {},
   "source": [
    "We train an autoencoder and predictor using a multi-task learning based approach where after passing the input through a common encoder, the low-dimensional output embeddings are passed to the reconstructive decoder along one task, and used to predict the sentiment along the other task."
   ]
  },
  {
   "cell_type": "code",
   "execution_count": 28,
   "metadata": {
    "colab": {
     "base_uri": "https://localhost:8080/",
     "height": 712
    },
    "colab_type": "code",
    "id": "4SfEGA6Se08g",
    "outputId": "49b5793e-ddd7-4347-ac12-7e15e1d94af0"
   },
   "outputs": [
    {
     "name": "stdout",
     "output_type": "stream",
     "text": [
      "Model: \"model_2\"\n",
      "__________________________________________________________________________________________________\n",
      "Layer (type)                    Output Shape         Param #     Connected to                     \n",
      "==================================================================================================\n",
      "input_2 (InputLayer)            (None, 35, 200)      0                                            \n",
      "__________________________________________________________________________________________________\n",
      "dense_9 (Dense)                 (None, 35, 200)      40200       input_2[0][0]                    \n",
      "__________________________________________________________________________________________________\n",
      "dropout_7 (Dropout)             (None, 35, 200)      0           dense_9[0][0]                    \n",
      "__________________________________________________________________________________________________\n",
      "dense_10 (Dense)                (None, 35, 100)      20100       dropout_7[0][0]                  \n",
      "__________________________________________________________________________________________________\n",
      "dropout_8 (Dropout)             (None, 35, 100)      0           dense_10[0][0]                   \n",
      "__________________________________________________________________________________________________\n",
      "dense_13 (Dense)                (None, 35, 25)       2525        dropout_8[0][0]                  \n",
      "__________________________________________________________________________________________________\n",
      "flatten_2 (Flatten)             (None, 875)          0           dense_13[0][0]                   \n",
      "__________________________________________________________________________________________________\n",
      "dropout_10 (Dropout)            (None, 875)          0           flatten_2[0][0]                  \n",
      "__________________________________________________________________________________________________\n",
      "dense_14 (Dense)                (None, 50)           43800       dropout_10[0][0]                 \n",
      "__________________________________________________________________________________________________\n",
      "dropout_11 (Dropout)            (None, 50)           0           dense_14[0][0]                   \n",
      "__________________________________________________________________________________________________\n",
      "dense_11 (Dense)                (None, 35, 200)      20200       dropout_8[0][0]                  \n",
      "__________________________________________________________________________________________________\n",
      "dense_15 (Dense)                (None, 10)           510         dropout_11[0][0]                 \n",
      "__________________________________________________________________________________________________\n",
      "dropout_9 (Dropout)             (None, 35, 200)      0           dense_11[0][0]                   \n",
      "__________________________________________________________________________________________________\n",
      "dropout_12 (Dropout)            (None, 10)           0           dense_15[0][0]                   \n",
      "__________________________________________________________________________________________________\n",
      "dense_12 (Dense)                (None, 35, 200)      40200       dropout_9[0][0]                  \n",
      "__________________________________________________________________________________________________\n",
      "dense_16 (Dense)                (None, 3)            33          dropout_12[0][0]                 \n",
      "==================================================================================================\n",
      "Total params: 167,568\n",
      "Trainable params: 167,568\n",
      "Non-trainable params: 0\n",
      "__________________________________________________________________________________________________\n"
     ]
    }
   ],
   "source": [
    "# Simple Multi-Task Autoencoder Model.\n",
    "input_text = Input(shape = (max_length, embedding_dimension,))\n",
    "enc1 = Dense(200, activation = 'tanh')(input_text)\n",
    "enc1 = Dropout(0.2)(enc1)\n",
    "enc2 = Dense(100, activation = 'tanh')(enc1)\n",
    "enc2 = Dropout(0.2)(enc2)\n",
    "\n",
    "dec1 = Dense(200, activation = 'tanh')(enc2)\n",
    "dec1 = Dropout(0.2)(dec1)\n",
    "dec2 = Dense(embedding_dimension, activation = 'tanh')(dec1)\n",
    "\n",
    "pred1 = Dense(25, activation = 'relu')(enc2)\n",
    "pred1 = Flatten()(pred1)\n",
    "pred1 = Dropout(0.2)(pred1)\n",
    "pred2 = Dense(50, activation = 'relu')(pred1)\n",
    "pred2 = Dropout(0.2)(pred2)\n",
    "pred3 = Dense(10, activation = 'relu')(pred2)\n",
    "pred3 = Dropout(0.2)(pred3)\n",
    "pred4 = Dense(3, activation = 'softmax')(pred3)\n",
    "\n",
    "multi_autoencoder = Model(inputs = input_text, outputs = [dec2, pred4])\n",
    "multi_autoencoder.compile(loss = ['mse', 'categorical_crossentropy'], optimizer = 'adam', metrics = ['accuracy'])\n",
    "multi_autoencoder.summary()"
   ]
  },
  {
   "cell_type": "code",
   "execution_count": 29,
   "metadata": {
    "colab": {
     "base_uri": "https://localhost:8080/",
     "height": 419
    },
    "colab_type": "code",
    "id": "htL2PUkGe00-",
    "outputId": "b386e8df-ae20-4071-fb80-76b3a26dffe2"
   },
   "outputs": [
    {
     "name": "stdout",
     "output_type": "stream",
     "text": [
      "Train on 9684 samples, validate on 1654 samples\n",
      "Epoch 1/10\n",
      "9684/9684 [==============================] - 9s 880us/step - loss: 1.1522 - dense_12_loss: 0.1173 - dense_16_loss: 1.0346 - dense_12_accuracy: 0.1193 - dense_16_accuracy: 0.4526 - val_loss: 1.1187 - val_dense_12_loss: 0.0824 - val_dense_16_loss: 1.0349 - val_dense_12_accuracy: 0.1921 - val_dense_16_accuracy: 0.4728\n",
      "Epoch 2/10\n",
      "9684/9684 [==============================] - 8s 835us/step - loss: 1.0718 - dense_12_loss: 0.0891 - dense_16_loss: 0.9826 - dense_12_accuracy: 0.1637 - dense_16_accuracy: 0.4952 - val_loss: 1.0691 - val_dense_12_loss: 0.0741 - val_dense_16_loss: 0.9931 - val_dense_12_accuracy: 0.2277 - val_dense_16_accuracy: 0.5006\n",
      "Epoch 3/10\n",
      "9684/9684 [==============================] - 8s 838us/step - loss: 1.0139 - dense_12_loss: 0.0813 - dense_16_loss: 0.9331 - dense_12_accuracy: 0.1812 - dense_16_accuracy: 0.5390 - val_loss: 0.9998 - val_dense_12_loss: 0.0712 - val_dense_16_loss: 0.9257 - val_dense_12_accuracy: 0.2339 - val_dense_16_accuracy: 0.5496\n",
      "Epoch 4/10\n",
      "9684/9684 [==============================] - 8s 874us/step - loss: 0.9574 - dense_12_loss: 0.0780 - dense_16_loss: 0.8792 - dense_12_accuracy: 0.1922 - dense_16_accuracy: 0.5912 - val_loss: 0.9579 - val_dense_12_loss: 0.0697 - val_dense_16_loss: 0.8829 - val_dense_12_accuracy: 0.2347 - val_dense_16_accuracy: 0.5713\n",
      "Epoch 5/10\n",
      "9684/9684 [==============================] - 8s 838us/step - loss: 0.9062 - dense_12_loss: 0.0764 - dense_16_loss: 0.8297 - dense_12_accuracy: 0.1934 - dense_16_accuracy: 0.6199 - val_loss: 0.9115 - val_dense_12_loss: 0.0690 - val_dense_16_loss: 0.8388 - val_dense_12_accuracy: 0.2253 - val_dense_16_accuracy: 0.6354\n",
      "Epoch 6/10\n",
      "9684/9684 [==============================] - 8s 836us/step - loss: 0.8678 - dense_12_loss: 0.0752 - dense_16_loss: 0.7923 - dense_12_accuracy: 0.1926 - dense_16_accuracy: 0.6478 - val_loss: 0.8733 - val_dense_12_loss: 0.0686 - val_dense_16_loss: 0.7996 - val_dense_12_accuracy: 0.2108 - val_dense_16_accuracy: 0.6536\n",
      "Epoch 7/10\n",
      "9684/9684 [==============================] - 8s 839us/step - loss: 0.8453 - dense_12_loss: 0.0746 - dense_16_loss: 0.7706 - dense_12_accuracy: 0.1957 - dense_16_accuracy: 0.6669 - val_loss: 0.8652 - val_dense_12_loss: 0.0684 - val_dense_16_loss: 0.7930 - val_dense_12_accuracy: 0.2312 - val_dense_16_accuracy: 0.6638\n",
      "Epoch 8/10\n",
      "9684/9684 [==============================] - 8s 837us/step - loss: 0.8204 - dense_12_loss: 0.0738 - dense_16_loss: 0.7469 - dense_12_accuracy: 0.1977 - dense_16_accuracy: 0.6767 - val_loss: 0.8566 - val_dense_12_loss: 0.0680 - val_dense_16_loss: 0.7842 - val_dense_12_accuracy: 0.2165 - val_dense_16_accuracy: 0.6632\n",
      "Epoch 9/10\n",
      "9684/9684 [==============================] - 8s 836us/step - loss: 0.8003 - dense_12_loss: 0.0733 - dense_16_loss: 0.7268 - dense_12_accuracy: 0.1986 - dense_16_accuracy: 0.6898 - val_loss: 0.8589 - val_dense_12_loss: 0.0678 - val_dense_16_loss: 0.7846 - val_dense_12_accuracy: 0.2321 - val_dense_16_accuracy: 0.6705\n",
      "Epoch 10/10\n",
      "9684/9684 [==============================] - 9s 908us/step - loss: 0.7806 - dense_12_loss: 0.0729 - dense_16_loss: 0.7078 - dense_12_accuracy: 0.1998 - dense_16_accuracy: 0.6962 - val_loss: 0.8532 - val_dense_12_loss: 0.0675 - val_dense_16_loss: 0.7816 - val_dense_12_accuracy: 0.2244 - val_dense_16_accuracy: 0.6614\n"
     ]
    },
    {
     "data": {
      "text/plain": [
       "<keras.callbacks.callbacks.History at 0x7f55284c0cc0>"
      ]
     },
     "execution_count": 29,
     "metadata": {
      "tags": []
     },
     "output_type": "execute_result"
    }
   ],
   "source": [
    "# Train the model on the word vectors.\n",
    "multi_autoencoder.fit(XTrainWV, [XTrainWV, YTrain], batch_size = 256, epochs = 10, validation_data = (XValWV, [XValWV, YVal]))"
   ]
  },
  {
   "cell_type": "code",
   "execution_count": 40,
   "metadata": {
    "colab": {
     "base_uri": "https://localhost:8080/",
     "height": 278
    },
    "colab_type": "code",
    "id": "Wx964jCpe0xM",
    "outputId": "6b031a98-e8f8-4a13-93a7-acefc93b8714"
   },
   "outputs": [
    {
     "name": "stdout",
     "output_type": "stream",
     "text": [
      "3547/3547 [==============================] - 1s 269us/step\n",
      "\n",
      "Results for Multi-Task Learning Approach\n",
      "Test Loss: 0.71\n",
      "Test Accuracy: 69.81%\n",
      "                precision    recall  f1-score   support\n",
      "\n",
      " Neutral Class       0.67      0.80      0.73      1513\n",
      "Positive Class       0.78      0.65      0.71      1475\n",
      "Negative Class       0.62      0.55      0.58       559\n",
      "\n",
      "      accuracy                           0.70      3547\n",
      "     macro avg       0.69      0.67      0.67      3547\n",
      "  weighted avg       0.70      0.70      0.70      3547\n",
      "\n"
     ]
    }
   ],
   "source": [
    "# Present the various metrics.\n",
    "score = multi_autoencoder.evaluate(XTestWV, [XTestWV, YTest], batch_size = 256, verbose = 1)\n",
    "print(\"\\nResults for Multi-Task Learning Approach\")\n",
    "print(\"Test Loss: %.2f\" % (score[2]))\n",
    "print(\"Test Accuracy: %.2f%%\" % (score[4] * 100))\n",
    "\n",
    "YPred = multi_autoencoder.predict(XTestWV)\n",
    "YPred = YPred[1].argmax(axis = 1)\n",
    "print(classification_report(Y_test['label'].values, YPred, target_names = ['Neutral Class', 'Positive Class', 'Negative Class']))"
   ]
  },
  {
   "cell_type": "code",
   "execution_count": 41,
   "metadata": {
    "colab": {
     "base_uri": "https://localhost:8080/",
     "height": 364
    },
    "colab_type": "code",
    "id": "ur72M-jiqJtY",
    "outputId": "b02a51f3-b5bf-4d96-b621-d3c570327199"
   },
   "outputs": [
    {
     "name": "stdout",
     "output_type": "stream",
     "text": [
      "[[1206  208   99]\n",
      " [ 420  963   92]\n",
      " [ 181   71  307]]\n"
     ]
    },
    {
     "data": {
      "text/plain": [
       "[Text(0, 0.5, 'Neutral'), Text(0, 1.5, 'Positive'), Text(0, 2.5, 'Negative')]"
      ]
     },
     "execution_count": 41,
     "metadata": {
      "tags": []
     },
     "output_type": "execute_result"
    },
    {
     "data": {
      "image/png": "[encoded data removed]",
      "text/plain": [
       "<Figure size 432x288 with 2 Axes>"
      ]
     },
     "metadata": {
      "needs_background": "light",
      "tags": []
     },
     "output_type": "display_data"
    }
   ],
   "source": [
    "# Plot the confusion matrix per class.\n",
    "cm = confusion_matrix(Y_test['label'].values, YPred, labels = [0, 1, 2])\n",
    "print(cm)\n",
    "ax = plt.subplot()\n",
    "sns.heatmap(cm, annot = True, ax = ax)\n",
    "ax.set_xlabel('Predicted labels')\n",
    "ax.set_ylabel('True labels')\n",
    "ax.set_title('Confusion Matrix')\n",
    "ax.xaxis.set_ticklabels(['Neutral', 'Positive', 'Negative'])\n",
    "ax.yaxis.set_ticklabels(['Neutral', 'Positive', 'Negative'])"
   ]
  },
  {
   "cell_type": "markdown",
   "metadata": {
    "colab_type": "text",
    "id": "jsMTmj0bCC_t"
   },
   "source": [
    "# 3) LSTM AutoEncoder"
   ]
  },
  {
   "cell_type": "markdown",
   "metadata": {},
   "source": [
    "We model the previously used multi-task learning based approach, and use an LSTM to encode the input text sequences. After passing the input through a common encoder, the low-dimensional output embeddings are passed to the reconstructive decoder along one task, and used to predict the sentiment along the other task."
   ]
  },
  {
   "cell_type": "code",
   "execution_count": 42,
   "metadata": {
    "colab": {
     "base_uri": "https://localhost:8080/",
     "height": 538
    },
    "colab_type": "code",
    "id": "tmLfRWrNCLvl",
    "outputId": "e7a8c681-df0c-457d-f4e2-6422957da706"
   },
   "outputs": [
    {
     "name": "stdout",
     "output_type": "stream",
     "text": [
      "Model: \"model_3\"\n",
      "__________________________________________________________________________________________________\n",
      "Layer (type)                    Output Shape         Param #     Connected to                     \n",
      "==================================================================================================\n",
      "input_3 (InputLayer)            (None, 35, 200)      0                                            \n",
      "__________________________________________________________________________________________________\n",
      "lstm_1 (LSTM)                   (None, 200)          320800      input_3[0][0]                    \n",
      "__________________________________________________________________________________________________\n",
      "repeat_vector_2 (RepeatVector)  (None, 35, 200)      0           lstm_1[0][0]                     \n",
      "__________________________________________________________________________________________________\n",
      "lstm_3 (LSTM)                   (None, 100)          120400      repeat_vector_2[0][0]            \n",
      "__________________________________________________________________________________________________\n",
      "dropout_13 (Dropout)            (None, 100)          0           lstm_3[0][0]                     \n",
      "__________________________________________________________________________________________________\n",
      "repeat_vector_1 (RepeatVector)  (None, 35, 200)      0           lstm_1[0][0]                     \n",
      "__________________________________________________________________________________________________\n",
      "dense_18 (Dense)                (None, 50)           5050        dropout_13[0][0]                 \n",
      "__________________________________________________________________________________________________\n",
      "lstm_2 (LSTM)                   (None, 35, 200)      320800      repeat_vector_1[0][0]            \n",
      "__________________________________________________________________________________________________\n",
      "dropout_14 (Dropout)            (None, 50)           0           dense_18[0][0]                   \n",
      "__________________________________________________________________________________________________\n",
      "time_distributed_1 (TimeDistrib (None, 35, 200)      40200       lstm_2[0][0]                     \n",
      "__________________________________________________________________________________________________\n",
      "dense_19 (Dense)                (None, 3)            153         dropout_14[0][0]                 \n",
      "==================================================================================================\n",
      "Total params: 807,403\n",
      "Trainable params: 807,403\n",
      "Non-trainable params: 0\n",
      "__________________________________________________________________________________________________\n"
     ]
    }
   ],
   "source": [
    "# Simple LSTM-based Encoder\n",
    "input_text = Input(shape = (max_length, embedding_dimension,))\n",
    "encoder = LSTM(200, activation = 'tanh')(input_text)\n",
    "# Simple LSTM-based Reconstruction Decoder\n",
    "decoder1 = RepeatVector(max_length)(encoder)\n",
    "decoder1 = LSTM(200, activation = 'tanh', return_sequences = True)(decoder1)\n",
    "decoder1 = TimeDistributed(Dense(embedding_dimension))(decoder1)\n",
    "# Simple LSTM-based Prediction Decoder\n",
    "decoder2 = RepeatVector(max_length)(encoder)\n",
    "decoder2 = LSTM(100, activation = 'relu', return_sequences = False)(decoder2)\n",
    "decoder2 = Dropout(0.2)(decoder2)\n",
    "decoder2 = Dense(50, activation = 'relu')(decoder2)\n",
    "decoder2 = Dropout(0.2)(decoder2)\n",
    "decoder2 = Dense(3, activation = 'softmax')(decoder2)\n",
    "\n",
    "lstm_autoencoder = Model(inputs = input_text, outputs = [decoder1, decoder2])\n",
    "lstm_autoencoder.compile(loss = ['mse', 'categorical_crossentropy'], optimizer = 'adam', metrics = ['accuracy'])\n",
    "lstm_autoencoder.summary()"
   ]
  },
  {
   "cell_type": "code",
   "execution_count": 43,
   "metadata": {
    "colab": {
     "base_uri": "https://localhost:8080/",
     "height": 350
    },
    "colab_type": "code",
    "id": "xjdx0iOECLr3",
    "outputId": "3c37380a-ee01-4a7d-fd1b-f982e252d30b"
   },
   "outputs": [
    {
     "name": "stdout",
     "output_type": "stream",
     "text": [
      "Train on 9684 samples, validate on 1654 samples\n",
      "Epoch 1/8\n",
      "9684/9684 [==============================] - 49s 5ms/step - loss: 1.1028 - time_distributed_1_loss: 0.0897 - dense_19_loss: 1.0128 - time_distributed_1_accuracy: 0.1212 - dense_19_accuracy: 0.4588 - val_loss: 1.0744 - val_time_distributed_1_loss: 0.0707 - val_dense_19_loss: 1.0006 - val_time_distributed_1_accuracy: 0.1898 - val_dense_19_accuracy: 0.4607\n",
      "Epoch 2/8\n",
      "9684/9684 [==============================] - 47s 5ms/step - loss: 0.9813 - time_distributed_1_loss: 0.0762 - dense_19_loss: 0.9045 - time_distributed_1_accuracy: 0.1763 - dense_19_accuracy: 0.5741 - val_loss: 0.9788 - val_time_distributed_1_loss: 0.0848 - val_dense_19_loss: 0.8858 - val_time_distributed_1_accuracy: 0.1818 - val_dense_19_accuracy: 0.6167\n",
      "Epoch 3/8\n",
      "9684/9684 [==============================] - 48s 5ms/step - loss: 0.8778 - time_distributed_1_loss: 0.0713 - dense_19_loss: 0.8069 - time_distributed_1_accuracy: 0.1822 - dense_19_accuracy: 0.6526 - val_loss: 0.9337 - val_time_distributed_1_loss: 0.0709 - val_dense_19_loss: 0.8546 - val_time_distributed_1_accuracy: 0.1911 - val_dense_19_accuracy: 0.6264\n",
      "Epoch 4/8\n",
      "9684/9684 [==============================] - 49s 5ms/step - loss: 0.8097 - time_distributed_1_loss: 0.0665 - dense_19_loss: 0.7435 - time_distributed_1_accuracy: 0.1863 - dense_19_accuracy: 0.6843 - val_loss: 0.8591 - val_time_distributed_1_loss: 0.0664 - val_dense_19_loss: 0.7839 - val_time_distributed_1_accuracy: 0.1935 - val_dense_19_accuracy: 0.6493\n",
      "Epoch 5/8\n",
      "9684/9684 [==============================] - 48s 5ms/step - loss: 0.7746 - time_distributed_1_loss: 0.0647 - dense_19_loss: 0.7099 - time_distributed_1_accuracy: 0.1865 - dense_19_accuracy: 0.7047 - val_loss: 0.8595 - val_time_distributed_1_loss: 0.0653 - val_dense_19_loss: 0.7859 - val_time_distributed_1_accuracy: 0.1931 - val_dense_19_accuracy: 0.6463\n",
      "Epoch 6/8\n",
      "9684/9684 [==============================] - 47s 5ms/step - loss: 0.7478 - time_distributed_1_loss: 0.0632 - dense_19_loss: 0.6846 - time_distributed_1_accuracy: 0.1863 - dense_19_accuracy: 0.7125 - val_loss: 0.8411 - val_time_distributed_1_loss: 0.0640 - val_dense_19_loss: 0.7678 - val_time_distributed_1_accuracy: 0.1931 - val_dense_19_accuracy: 0.6699\n",
      "Epoch 7/8\n",
      "9684/9684 [==============================] - 46s 5ms/step - loss: 0.7268 - time_distributed_1_loss: 0.0623 - dense_19_loss: 0.6645 - time_distributed_1_accuracy: 0.1859 - dense_19_accuracy: 0.7282 - val_loss: 0.8581 - val_time_distributed_1_loss: 0.0643 - val_dense_19_loss: 0.7859 - val_time_distributed_1_accuracy: 0.1896 - val_dense_19_accuracy: 0.6536\n",
      "Epoch 8/8\n",
      "9684/9684 [==============================] - 47s 5ms/step - loss: 0.7174 - time_distributed_1_loss: 0.0621 - dense_19_loss: 0.6552 - time_distributed_1_accuracy: 0.1874 - dense_19_accuracy: 0.7297 - val_loss: 0.8757 - val_time_distributed_1_loss: 0.0633 - val_dense_19_loss: 0.8029 - val_time_distributed_1_accuracy: 0.2026 - val_dense_19_accuracy: 0.6336\n"
     ]
    },
    {
     "data": {
      "text/plain": [
       "<keras.callbacks.callbacks.History at 0x7f55246d1940>"
      ]
     },
     "execution_count": 43,
     "metadata": {
      "tags": []
     },
     "output_type": "execute_result"
    }
   ],
   "source": [
    "# Train the model on the word vectors.\n",
    "lstm_autoencoder.fit(XTrainWV, [XTrainWV, YTrain], batch_size = 256, epochs = 8, validation_data = (XValWV, [XValWV, YVal]))"
   ]
  },
  {
   "cell_type": "code",
   "execution_count": 44,
   "metadata": {
    "colab": {
     "base_uri": "https://localhost:8080/",
     "height": 278
    },
    "colab_type": "code",
    "id": "ZzKeWBgdCLoX",
    "outputId": "403387ed-f3d6-4868-fd8c-bc2c529e9beb"
   },
   "outputs": [
    {
     "name": "stdout",
     "output_type": "stream",
     "text": [
      "3547/3547 [==============================] - 5s 1ms/step\n",
      "\n",
      "Results for LSTM Auto-Encoder Approach\n",
      "Test Loss: 0.72\n",
      "Test Accuracy: 68.59%\n",
      "                precision    recall  f1-score   support\n",
      "\n",
      " Neutral Class       0.68      0.73      0.70      1513\n",
      "Positive Class       0.70      0.70      0.70      1475\n",
      "Negative Class       0.65      0.53      0.58       559\n",
      "\n",
      "      accuracy                           0.69      3547\n",
      "     macro avg       0.68      0.65      0.66      3547\n",
      "  weighted avg       0.69      0.69      0.68      3547\n",
      "\n"
     ]
    }
   ],
   "source": [
    "# Present the various metrics.\n",
    "score = lstm_autoencoder.evaluate(XTestWV, [XTestWV, YTest], batch_size = 256, verbose = 1)\n",
    "print(\"\\nResults for LSTM Auto-Encoder Approach\")\n",
    "print(\"Test Loss: %.2f\" % (score[2]))\n",
    "print(\"Test Accuracy: %.2f%%\" % (score[4] * 100))\n",
    "\n",
    "YPred = lstm_autoencoder.predict(XTestWV)\n",
    "YPred = YPred[1].argmax(axis = 1)\n",
    "print(classification_report(Y_test['label'].values, YPred, target_names = ['Neutral Class', 'Positive Class', 'Negative Class']))"
   ]
  },
  {
   "cell_type": "code",
   "execution_count": 45,
   "metadata": {
    "colab": {
     "base_uri": "https://localhost:8080/",
     "height": 364
    },
    "colab_type": "code",
    "id": "vB021wWdCLkz",
    "outputId": "2437a858-59e0-457c-d0da-11fee519838b"
   },
   "outputs": [
    {
     "name": "stdout",
     "output_type": "stream",
     "text": [
      "[[1101  317   95]\n",
      " [ 376 1037   62]\n",
      " [ 145  119  295]]\n"
     ]
    },
    {
     "data": {
      "text/plain": [
       "[Text(0, 0.5, 'Neutral'), Text(0, 1.5, 'Positive'), Text(0, 2.5, 'Negative')]"
      ]
     },
     "execution_count": 45,
     "metadata": {
      "tags": []
     },
     "output_type": "execute_result"
    },
    {
     "data": {
      "image/png": "[encoded data removed]",
      "text/plain": [
       "<Figure size 432x288 with 2 Axes>"
      ]
     },
     "metadata": {
      "needs_background": "light",
      "tags": []
     },
     "output_type": "display_data"
    }
   ],
   "source": [
    "# Plot the confusion matrix per class.\n",
    "cm = confusion_matrix(Y_test['label'].values, YPred, labels = [0, 1, 2])\n",
    "print(cm)\n",
    "ax = plt.subplot()\n",
    "sns.heatmap(cm, annot = True, ax = ax)\n",
    "ax.set_xlabel('Predicted labels')\n",
    "ax.set_ylabel('True labels')\n",
    "ax.set_title('Confusion Matrix')\n",
    "ax.xaxis.set_ticklabels(['Neutral', 'Positive', 'Negative'])\n",
    "ax.yaxis.set_ticklabels(['Neutral', 'Positive', 'Negative'])"
   ]
  }
 ],
 "metadata": {
  "colab": {
   "collapsed_sections": [],
   "name": "Advanced ML Assignment - 4",
   "provenance": []
  },
  "kernelspec": {
   "display_name": "Python 3",
   "language": "python",
   "name": "python3"
  },
  "language_info": {
   "codemirror_mode": {
    "name": "ipython",
    "version": 3
   },
   "file_extension": ".py",
   "mimetype": "text/x-python",
   "name": "python",
   "nbconvert_exporter": "python",
   "pygments_lexer": "ipython3",
   "version": "3.7.7"
  }
 },
 "nbformat": 4,
 "nbformat_minor": 1
}
