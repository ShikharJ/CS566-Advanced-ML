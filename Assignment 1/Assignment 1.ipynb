{
 "cells": [
  {
   "cell_type": "markdown",
   "metadata": {},
   "source": [
    "## Pre-processing and Visualization"
   ]
  },
  {
   "cell_type": "code",
   "execution_count": 1,
   "metadata": {},
   "outputs": [],
   "source": [
    "# Include the required libraries.\n",
    "import random\n",
    "import warnings\n",
    "import pandas as pd\n",
    "import matplotlib.pyplot as plt\n",
    "from sklearn.metrics import mean_squared_error\n",
    "from statsmodels.tsa.arima_model import ARIMA, ARIMAResults\n",
    "\n",
    "random.seed(21)"
   ]
  },
  {
   "cell_type": "code",
   "execution_count": 2,
   "metadata": {},
   "outputs": [],
   "source": [
    "# Read the CSV file data.\n",
    "data = pd.read_csv('TimeSeries.csv')\n",
    "data['Water'] = pd.to_numeric(data['Water'])\n",
    "evaluation_index = 69"
   ]
  },
  {
   "cell_type": "code",
   "execution_count": 3,
   "metadata": {},
   "outputs": [
    {
     "data": {
      "text/html": [
       "<div>\n",
       "<style scoped>\n",
       "    .dataframe tbody tr th:only-of-type {\n",
       "        vertical-align: middle;\n",
       "    }\n",
       "\n",
       "    .dataframe tbody tr th {\n",
       "        vertical-align: top;\n",
       "    }\n",
       "\n",
       "    .dataframe thead th {\n",
       "        text-align: right;\n",
       "    }\n",
       "</style>\n",
       "<table border=\"1\" class=\"dataframe\">\n",
       "  <thead>\n",
       "    <tr style=\"text-align: right;\">\n",
       "      <th></th>\n",
       "      <th>Year</th>\n",
       "      <th>Water</th>\n",
       "    </tr>\n",
       "  </thead>\n",
       "  <tbody>\n",
       "    <tr>\n",
       "      <th>0</th>\n",
       "      <td>1885</td>\n",
       "      <td>356</td>\n",
       "    </tr>\n",
       "    <tr>\n",
       "      <th>1</th>\n",
       "      <td>1886</td>\n",
       "      <td>386</td>\n",
       "    </tr>\n",
       "    <tr>\n",
       "      <th>2</th>\n",
       "      <td>1887</td>\n",
       "      <td>397</td>\n",
       "    </tr>\n",
       "    <tr>\n",
       "      <th>3</th>\n",
       "      <td>1888</td>\n",
       "      <td>397</td>\n",
       "    </tr>\n",
       "    <tr>\n",
       "      <th>4</th>\n",
       "      <td>1889</td>\n",
       "      <td>413</td>\n",
       "    </tr>\n",
       "    <tr>\n",
       "      <th>...</th>\n",
       "      <td>...</td>\n",
       "      <td>...</td>\n",
       "    </tr>\n",
       "    <tr>\n",
       "      <th>74</th>\n",
       "      <td>1959</td>\n",
       "      <td>594</td>\n",
       "    </tr>\n",
       "    <tr>\n",
       "      <th>75</th>\n",
       "      <td>1960</td>\n",
       "      <td>587</td>\n",
       "    </tr>\n",
       "    <tr>\n",
       "      <th>76</th>\n",
       "      <td>1961</td>\n",
       "      <td>587</td>\n",
       "    </tr>\n",
       "    <tr>\n",
       "      <th>77</th>\n",
       "      <td>1962</td>\n",
       "      <td>625</td>\n",
       "    </tr>\n",
       "    <tr>\n",
       "      <th>78</th>\n",
       "      <td>1963</td>\n",
       "      <td>613</td>\n",
       "    </tr>\n",
       "  </tbody>\n",
       "</table>\n",
       "<p>79 rows × 2 columns</p>\n",
       "</div>"
      ],
      "text/plain": [
       "    Year  Water\n",
       "0   1885    356\n",
       "1   1886    386\n",
       "2   1887    397\n",
       "3   1888    397\n",
       "4   1889    413\n",
       "..   ...    ...\n",
       "74  1959    594\n",
       "75  1960    587\n",
       "76  1961    587\n",
       "77  1962    625\n",
       "78  1963    613\n",
       "\n",
       "[79 rows x 2 columns]"
      ]
     },
     "execution_count": 3,
     "metadata": {},
     "output_type": "execute_result"
    }
   ],
   "source": [
    "data"
   ]
  },
  {
   "cell_type": "code",
   "execution_count": 4,
   "metadata": {},
   "outputs": [],
   "source": [
    "# Function for generating the walk-forward validation set.\n",
    "def walk_forward_validation(unsplit_data, base_window_size):\n",
    "    X = []\n",
    "    Y = []\n",
    "\n",
    "    while base_window_size < unsplit_data.shape[0]:\n",
    "        validation_sequence = unsplit_data.iloc[: base_window_size, 1].tolist()\n",
    "        validation_test = unsplit_data.iloc[base_window_size, 1]\n",
    "        X.append(validation_sequence)\n",
    "        Y.append(validation_test)\n",
    "        base_window_size += 1\n",
    "\n",
    "    return X, Y"
   ]
  },
  {
   "cell_type": "code",
   "execution_count": 5,
   "metadata": {},
   "outputs": [],
   "source": [
    "# Generate the walk-forward training and testing sets.\n",
    "X, Y = walk_forward_validation(data, 5)\n",
    "\n",
    "XTrain = X[:-10]\n",
    "YTrain = Y[:-10]\n",
    "XTest = X[-10:]\n",
    "YTest = Y[-10:]"
   ]
  },
  {
   "cell_type": "markdown",
   "metadata": {},
   "source": [
    "## Naive Forecast / Persistence"
   ]
  },
  {
   "cell_type": "code",
   "execution_count": 6,
   "metadata": {},
   "outputs": [],
   "source": [
    "# Function for generating naive forecasts.\n",
    "def naive_forecast(X):\n",
    "    forecast = []\n",
    "    \n",
    "    for x in X:\n",
    "        forecast.append(x[-1])\n",
    "    \n",
    "    return forecast"
   ]
  },
  {
   "cell_type": "code",
   "execution_count": 7,
   "metadata": {},
   "outputs": [
    {
     "name": "stdout",
     "output_type": "stream",
     "text": [
      "Naive Forecast Evaluation\n",
      "Training RMSE:  35.40855299217973\n",
      "Testing RMSE:  17.190113437671084\n"
     ]
    }
   ],
   "source": [
    "# Print the RMSE for Naive Forecasting.\n",
    "print('Naive Forecast Evaluation')\n",
    "\n",
    "YTrainPred = naive_forecast(XTrain)\n",
    "print('Training RMSE: ', mean_squared_error(YTrain, YTrainPred, squared = False))\n",
    "\n",
    "YTestPred = naive_forecast(XTest)\n",
    "print('Testing RMSE: ', mean_squared_error(YTest, YTestPred, squared = False))"
   ]
  },
  {
   "cell_type": "markdown",
   "metadata": {},
   "source": [
    "## Summary Statistics and Plots"
   ]
  },
  {
   "cell_type": "markdown",
   "metadata": {},
   "source": [
    "### Summary Statistics"
   ]
  },
  {
   "cell_type": "code",
   "execution_count": 8,
   "metadata": {},
   "outputs": [
    {
     "name": "stdout",
     "output_type": "stream",
     "text": [
      "Summary Statistics:\n",
      "count     69.000000\n",
      "mean     500.478261\n",
      "std       73.901685\n",
      "min      344.000000\n",
      "25%      458.000000\n",
      "50%      492.000000\n",
      "75%      538.000000\n",
      "max      662.000000\n",
      "Name: Water, dtype: float64\n"
     ]
    }
   ],
   "source": [
    "# Print the summary statistics.\n",
    "print('Summary Statistics:')\n",
    "print(data.iloc[: evaluation_index, 1].describe())"
   ]
  },
  {
   "cell_type": "markdown",
   "metadata": {},
   "source": [
    "### Line Plot"
   ]
  },
  {
   "cell_type": "code",
   "execution_count": 9,
   "metadata": {},
   "outputs": [
    {
     "data": {
      "text/plain": [
       "<matplotlib.axes._subplots.AxesSubplot at 0x7f80d445b390>"
      ]
     },
     "execution_count": 9,
     "metadata": {},
     "output_type": "execute_result"
    },
    {
     "data": {
      "image/png": "[encoded data removed]",
      "text/plain": [
       "<Figure size 432x288 with 1 Axes>"
      ]
     },
     "metadata": {
      "needs_background": "light"
     },
     "output_type": "display_data"
    }
   ],
   "source": [
    "# Plot the line plot for training set.\n",
    "data.iloc[: evaluation_index, :].plot.line(x = 'Year', y = 'Water', title = 'Line Plot')"
   ]
  },
  {
   "cell_type": "markdown",
   "metadata": {},
   "source": [
    "### Density Plot"
   ]
  },
  {
   "cell_type": "code",
   "execution_count": 10,
   "metadata": {},
   "outputs": [
    {
     "data": {
      "image/png": "[encoded data removed]",
      "text/plain": [
       "<Figure size 432x288 with 2 Axes>"
      ]
     },
     "metadata": {
      "needs_background": "light"
     },
     "output_type": "display_data"
    }
   ],
   "source": [
    "# Plot the density plot for training set.\n",
    "plt.figure(1)\n",
    "plt.subplot(211)\n",
    "plt.title('Histogram Plot')\n",
    "data.iloc[: evaluation_index, 1].hist()\n",
    "plt.subplot(212)\n",
    "data.iloc[: evaluation_index, 1].plot(kind = 'kde', legend = 'Water')\n",
    "plt.show()"
   ]
  },
  {
   "cell_type": "markdown",
   "metadata": {},
   "source": [
    "### Box-and-Whisker Plot"
   ]
  },
  {
   "cell_type": "code",
   "execution_count": 11,
   "metadata": {},
   "outputs": [
    {
     "data": {
      "image/png": "[encoded data removed]",
      "text/plain": [
       "<Figure size 432x288 with 1 Axes>"
      ]
     },
     "metadata": {
      "needs_background": "light"
     },
     "output_type": "display_data"
    }
   ],
   "source": [
    "# Plot the box-and-whisker plot for training set.\n",
    "series = pd.read_csv('TimeSeries.csv', index_col = 'Year', parse_dates = True)\n",
    "groups = series['1885' : '1944'].groupby(pd.Grouper(freq = '10AS'))\n",
    "decades = pd.DataFrame()\n",
    "\n",
    "for name, group in groups:\n",
    "    decades[name.year] = group.values.ravel()\n",
    "\n",
    "decades.boxplot()\n",
    "plt.title('Box-and-Whisker Plot')\n",
    "plt.show()"
   ]
  },
  {
   "cell_type": "markdown",
   "metadata": {},
   "source": [
    "## ARIMA Modelling"
   ]
  },
  {
   "cell_type": "code",
   "execution_count": 12,
   "metadata": {},
   "outputs": [],
   "source": [
    "# Function for evaluating the dataset on an ARIMA configuration.\n",
    "def evaluate_arima_model(train, test, arima_order):\n",
    "    history = [x[0] for x in train]\n",
    "    predictions = []\n",
    "\n",
    "    for t in range(len(test)):\n",
    "        model = ARIMA(history, order = arima_order)\n",
    "        try:\n",
    "            model_fit = model.fit(trend = 'nc', disp = 0, transparams = False)\n",
    "        except:\n",
    "            model_fit = model.fit(trend = 'nc', disp = 0, start_params = [1, .1, .1])\n",
    "        yhat = model_fit.forecast()[0]\n",
    "        predictions.append(yhat)\n",
    "        history.append(test[t])\n",
    "\n",
    "    mse = mean_squared_error(test, predictions, squared = False)\n",
    "    return mse, predictions"
   ]
  },
  {
   "cell_type": "code",
   "execution_count": 13,
   "metadata": {},
   "outputs": [],
   "source": [
    "# Function for grid-searching the best ARIMA configuration.\n",
    "def evaluate_models(dataset, p_values, d_values, q_values):\n",
    "    dataset = dataset.astype('float32')\n",
    "    best_score, best_cfg, best_predictions = float(\"inf\"), None, None\n",
    "    train, test = dataset[0 : evaluation_index], dataset[evaluation_index : ]\n",
    "\n",
    "    for p in p_values:\n",
    "        for d in d_values:\n",
    "            for q in q_values:\n",
    "                order = (p, d, q)\n",
    "                \n",
    "                try:\n",
    "                    mse, predictions = evaluate_arima_model(train, test, order)\n",
    "                    \n",
    "                    if mse < best_score:\n",
    "                        best_score, best_cfg, best_predictions = mse, order, predictions\n",
    "                except:\n",
    "                    continue\n",
    "                \n",
    "                print('ARIMA Configuration: %s RMSE = %.3f' % (order,mse))\n",
    "    \n",
    "    print('\\nBest ARIMA Configuration: %s RMSE = %.3f' % (best_cfg, best_score))\n",
    "    return (test, best_predictions)"
   ]
  },
  {
   "cell_type": "code",
   "execution_count": 14,
   "metadata": {},
   "outputs": [
    {
     "name": "stdout",
     "output_type": "stream",
     "text": [
      "Initiating Grid Search\n",
      "ARIMA Configuration: (1, 2, 1) RMSE = 16.432\n",
      "ARIMA Configuration: (1, 2, 2) RMSE = 14.340\n",
      "ARIMA Configuration: (2, 2, 1) RMSE = 15.951\n",
      "\n",
      "Best ARIMA Configuration: (1, 2, 2) RMSE = 14.340\n"
     ]
    },
    {
     "data": {
      "image/png": "[encoded data removed]",
      "text/plain": [
       "<Figure size 432x288 with 1 Axes>"
      ]
     },
     "metadata": {
      "needs_background": "light"
     },
     "output_type": "display_data"
    }
   ],
   "source": [
    "# Routine for generating the best ARIMA model plots.\n",
    "x = data.iloc[evaluation_index :, 0].values\n",
    "series = pd.read_csv('TimeSeries.csv', index_col = 'Year', parse_dates = True)\n",
    "p_values = range(1, 3)\n",
    "d_values = range(1, 3)\n",
    "q_values = range(1, 3)\n",
    "warnings.filterwarnings(\"ignore\")\n",
    "\n",
    "print('Initiating Grid Search')\n",
    "test, predictions = evaluate_models(series.values, p_values, d_values, q_values)\n",
    "plt.plot(x, test, label = 'Test Values')\n",
    "plt.plot(x, predictions, color = 'red', label = 'Predicted Values')\n",
    "plt.legend()\n",
    "plt.title('ARIMA Predictions')\n",
    "plt.show()"
   ]
  }
 ],
 "metadata": {
  "kernelspec": {
   "display_name": "Python 3",
   "language": "python",
   "name": "python3"
  },
  "language_info": {
   "codemirror_mode": {
    "name": "ipython",
    "version": 3
   },
   "file_extension": ".py",
   "mimetype": "text/x-python",
   "name": "python",
   "nbconvert_exporter": "python",
   "pygments_lexer": "ipython3",
   "version": "3.7.6"
  }
 },
 "nbformat": 4,
 "nbformat_minor": 4
}
