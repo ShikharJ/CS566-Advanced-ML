{
  "nbformat": 4,
  "nbformat_minor": 0,
  "metadata": {
    "colab": {
      "name": "Advanced ML Assignment - 3",
      "provenance": [],
      "collapsed_sections": []
    },
    "kernelspec": {
      "name": "python3",
      "display_name": "Python 3"
    }
  },
  "cells": [
    {
      "cell_type": "markdown",
      "metadata": {
        "id": "fgOC3XmTB_Vf",
        "colab_type": "text"
      },
      "source": [
        "# Importing libraries"
      ]
    },
    {
      "cell_type": "code",
      "metadata": {
        "id": "tO3evS2rUece",
        "colab_type": "code",
        "outputId": "ec6419d2-8812-4bf7-afaa-b9da94698a9e",
        "colab": {
          "base_uri": "https://localhost:8080/",
          "height": 228
        }
      },
      "source": [
        "# Install tokenizer tool.\n",
        "!pip install git+https://github.com/erikavaris/tokenizer.git"
      ],
      "execution_count": 70,
      "outputs": [
        {
          "output_type": "stream",
          "text": [
            "Collecting git+https://github.com/erikavaris/tokenizer.git\n",
            "  Cloning https://github.com/erikavaris/tokenizer.git to /tmp/pip-req-build-ral8adh8\n",
            "  Running command git clone -q https://github.com/erikavaris/tokenizer.git /tmp/pip-req-build-ral8adh8\n",
            "Requirement already satisfied (use --upgrade to upgrade): tokenizer==1.0.1 from git+https://github.com/erikavaris/tokenizer.git in /usr/local/lib/python3.6/dist-packages\n",
            "Requirement already satisfied: nltk in /usr/local/lib/python3.6/dist-packages (from tokenizer==1.0.1) (3.2.5)\n",
            "Requirement already satisfied: six in /usr/local/lib/python3.6/dist-packages (from nltk->tokenizer==1.0.1) (1.12.0)\n",
            "Building wheels for collected packages: tokenizer\n",
            "  Building wheel for tokenizer (setup.py) ... \u001b[?25l\u001b[?25hdone\n",
            "  Created wheel for tokenizer: filename=tokenizer-1.0.1-cp36-none-any.whl size=12978 sha256=2995d7000eb7154f6faf98bed0f1c94e301f25aa7618f94d94a315f4fbaf8ecd\n",
            "  Stored in directory: /tmp/pip-ephem-wheel-cache-5i6fdvxr/wheels/47/e7/9b/7f3e9b2989a5600b42ffbcc0fd8687562b1738f585f6bd92fa\n",
            "Successfully built tokenizer\n"
          ],
          "name": "stdout"
        }
      ]
    },
    {
      "cell_type": "code",
      "metadata": {
        "id": "rm5AbHL2UjCq",
        "colab_type": "code",
        "outputId": "8b5d40c3-bbc0-44d1-d8ab-c082686003d6",
        "colab": {
          "base_uri": "https://localhost:8080/",
          "height": 52
        }
      },
      "source": [
        "# Import essential libraries.\n",
        "import os\n",
        "import gensim\n",
        "import nltk\n",
        "nltk.download('stopwords')\n",
        "import string\n",
        "import numpy as np\n",
        "import pandas as pd\n",
        "from gensim.models.word2vec import Word2Vec\n",
        "from tokenizer import tokenizer\n",
        "import seaborn as sns\n",
        "import matplotlib.pyplot as plt\n",
        "from sklearn.preprocessing import scale\n",
        "from nltk.corpus import stopwords\n",
        "from keras.preprocessing.text import Tokenizer\n",
        "from keras.preprocessing.sequence import pad_sequences\n",
        "from keras.utils import to_categorical\n",
        "from keras.models import Sequential\n",
        "from keras.layers.embeddings import Embedding\n",
        "from keras.initializers import Constant\n",
        "from keras.preprocessing import sequence\n",
        "from keras.layers import Dense, Flatten, Dropout, SimpleRNN, LSTM, GRU\n",
        "from sklearn.metrics import confusion_matrix, classification_report"
      ],
      "execution_count": 324,
      "outputs": [
        {
          "output_type": "stream",
          "text": [
            "[nltk_data] Downloading package stopwords to /root/nltk_data...\n",
            "[nltk_data]   Package stopwords is already up-to-date!\n"
          ],
          "name": "stdout"
        }
      ]
    },
    {
      "cell_type": "markdown",
      "metadata": {
        "id": "y9nzmpjKBn5P",
        "colab_type": "text"
      },
      "source": [
        "# Data processing"
      ]
    },
    {
      "cell_type": "code",
      "metadata": {
        "id": "DVL4pUQKNSAc",
        "colab_type": "code",
        "colab": {}
      },
      "source": [
        "# Read the training dataset from the file.\n",
        "df = pd.read_csv('twitter-train.tsv', sep = '\\t', names = [\"tweet_id\", \"label\", \"tweet\"], index_col = 0)\n",
        "X_train = df.iloc[:, [False, True]]\n",
        "Y_train = df.loc[:, [True, False]]"
      ],
      "execution_count": 0,
      "outputs": []
    },
    {
      "cell_type": "code",
      "metadata": {
        "id": "dNgSkkvGCP-O",
        "colab_type": "code",
        "colab": {}
      },
      "source": [
        "# Read the validation dataset from the file.\n",
        "df = pd.read_csv('twitter-dev.tsv', sep = '\\t', names = [\"tweet_id\", \"label\", \"tweet\"], index_col = 0)\n",
        "X_val = df.iloc[:, [False, True]]\n",
        "Y_val = df.loc[:, [True, False]]"
      ],
      "execution_count": 0,
      "outputs": []
    },
    {
      "cell_type": "code",
      "metadata": {
        "id": "Kg8R2svxQntd",
        "colab_type": "code",
        "outputId": "6a1630e0-6daa-4bfc-bb2b-ec28c05f5c6c",
        "colab": {
          "base_uri": "https://localhost:8080/",
          "height": 86
        }
      },
      "source": [
        "# Read the test dataset from the file.\n",
        "df = pd.read_csv('twitter-test.tsv', sep = '\\t', names = [\"tweet_id\", \"label\", \"tweet\"], index_col = 0)\n",
        "X_test = df.iloc[:, [False, True]]\n",
        "Y_test = df.loc[:, [True, False]]"
      ],
      "execution_count": 327,
      "outputs": [
        {
          "output_type": "stream",
          "text": [
            "neutral     1513\n",
            "positive    1475\n",
            "negative     559\n",
            "Name: label, dtype: int64\n"
          ],
          "name": "stdout"
        }
      ]
    },
    {
      "cell_type": "markdown",
      "metadata": {
        "id": "33h92JsZSA-0",
        "colab_type": "text"
      },
      "source": [
        "# Creating word embeddings"
      ]
    },
    {
      "cell_type": "code",
      "metadata": {
        "id": "vKTuGtYuUdvb",
        "colab_type": "code",
        "colab": {}
      },
      "source": [
        "# Initialize the tokenizer.\n",
        "alphabetical = set(string.ascii_lowercase)\n",
        "T = tokenizer.TweetTokenizer(preserve_handles = False, preserve_hashes = True,\n",
        "                             preserve_case = False, preserve_url = False,\n",
        "                             preserve_emoji = False, regularize = True)"
      ],
      "execution_count": 0,
      "outputs": []
    },
    {
      "cell_type": "code",
      "metadata": {
        "id": "xntcQIutt0V4",
        "colab_type": "code",
        "colab": {}
      },
      "source": [
        "# Function for checking the string for alpha-numeric characters.\n",
        "def alphabetic(x):\n",
        "    for alpha in x:\n",
        "        if not alpha.isalnum():\n",
        "            return False\n",
        "    \n",
        "    return True"
      ],
      "execution_count": 0,
      "outputs": []
    },
    {
      "cell_type": "code",
      "metadata": {
        "id": "yORtH1CQU75m",
        "colab_type": "code",
        "colab": {}
      },
      "source": [
        "# Function for processing and cleaning the tweets.\n",
        "def tweet_tokenize(tweet):\n",
        "    tweet = tweet.replace('\\\\u2019', \"'\")\n",
        "    tweet = tweet.replace('\\\\u002c', ',')\n",
        "    text = T.tokenize(tweet)\n",
        "    text = filter(lambda x: alphabetic(x), text)\n",
        "    text = filter(lambda x: x not in ['rt'], text)\n",
        "    text = filter(lambda x: x not in alphabetical, text)\n",
        "    tweet = \" \".join(text)\n",
        "\n",
        "    return tweet"
      ],
      "execution_count": 0,
      "outputs": []
    },
    {
      "cell_type": "code",
      "metadata": {
        "id": "gZ-jxvLZU707",
        "colab_type": "code",
        "colab": {}
      },
      "source": [
        "# Clean the datasets.\n",
        "X_train['cleaned_tweet'] = X_train.apply(lambda row: tweet_tokenize(row['tweet']), axis = 1)\n",
        "X_val['cleaned_tweet'] = X_val.apply(lambda row: tweet_tokenize(row['tweet']), axis = 1)\n",
        "X_test['cleaned_tweet'] = X_test.apply(lambda row: tweet_tokenize(row['tweet']), axis = 1)"
      ],
      "execution_count": 0,
      "outputs": []
    },
    {
      "cell_type": "code",
      "metadata": {
        "id": "ppgaFNfVqKu-",
        "colab_type": "code",
        "outputId": "c25acdca-e80b-4fba-fbfe-e390b94f1847",
        "colab": {
          "base_uri": "https://localhost:8080/",
          "height": 72
        }
      },
      "source": [
        "# Initialize the word2vec model.\n",
        "embedding_dimension = 200\n",
        "tweet_word2vec = Word2Vec(sentences = [x.split() for x in X_train['cleaned_tweet'].append(X_val['cleaned_tweet'])],\n",
        "                          size = embedding_dimension, window = 5, workers = 4, min_count = 4, iter = 5)\n",
        "words = list(tweet_word2vec.wv.vocab)\n",
        "\n",
        "filename = 'embedding_word2vec.txt'\n",
        "tweet_word2vec.wv.save_word2vec_format(filename, binary = False)"
      ],
      "execution_count": 332,
      "outputs": [
        {
          "output_type": "stream",
          "text": [
            "/usr/local/lib/python3.6/dist-packages/smart_open/smart_open_lib.py:410: UserWarning: This function is deprecated, use smart_open.open instead. See the migration notes for details: https://github.com/RaRe-Technologies/smart_open/blob/master/README.rst#migrating-to-the-new-open-function\n",
            "  'See the migration notes for details: %s' % _MIGRATION_NOTES_URL\n"
          ],
          "name": "stderr"
        }
      ]
    },
    {
      "cell_type": "code",
      "metadata": {
        "id": "Rhiil9TpNOrY",
        "colab_type": "code",
        "colab": {}
      },
      "source": [
        "# Generate the word vectors for the individual tokens in the tweet.\n",
        "top_words = len(tweet_word2vec.wv.vocab)\n",
        "max_length = 35\n",
        "\n",
        "tokenizer = Tokenizer(num_words = top_words)\n",
        "tokenizer.fit_on_texts([x for x in X_train['cleaned_tweet'].append(X_val['cleaned_tweet'])])\n",
        "sequences_train = tokenizer.texts_to_sequences([x for x in X_train['cleaned_tweet']])\n",
        "sequences_test = tokenizer.texts_to_sequences([x for x in X_test['cleaned_tweet']])\n",
        "sequences_val = tokenizer.texts_to_sequences([x for x in X_val['cleaned_tweet']])\n",
        "\n",
        "XTrain = sequence.pad_sequences(sequences_train, padding = 'post', maxlen = max_length)\n",
        "XTest = sequence.pad_sequences(sequences_test, padding = 'post', maxlen = max_length)\n",
        "XVal = sequence.pad_sequences(sequences_val, padding = 'post', maxlen = max_length)"
      ],
      "execution_count": 0,
      "outputs": []
    },
    {
      "cell_type": "code",
      "metadata": {
        "id": "JUjj_rjUtQMW",
        "colab_type": "code",
        "colab": {}
      },
      "source": [
        "# Store the individual tweet-level word vectors in the desired shape and format.\n",
        "embedding_index = {}\n",
        "f = open('embedding_word2vec.txt', encoding = 'utf-8')\n",
        "\n",
        "for line in f:\n",
        "    values = line.split()\n",
        "    word = values[0]\n",
        "    coefs = np.asarray(values[1 :])\n",
        "    embedding_index[word] = coefs\n",
        "\n",
        "f.close()"
      ],
      "execution_count": 0,
      "outputs": []
    },
    {
      "cell_type": "code",
      "metadata": {
        "id": "MAuHIRH8ud7S",
        "colab_type": "code",
        "colab": {}
      },
      "source": [
        "num_words = top_words + 1\n",
        "embedding_matrix = np.zeros((num_words, embedding_dimension))\n",
        "count = 0\n",
        "\n",
        "for i, word in tokenizer.index_word.items():\n",
        "    if i > top_words:\n",
        "        break\n",
        "\n",
        "    embedding_vector = embedding_index.get(word)\n",
        "\n",
        "    if embedding_vector is not None:\n",
        "        embedding_matrix[i] = embedding_vector\n",
        "        count += 1"
      ],
      "execution_count": 0,
      "outputs": []
    },
    {
      "cell_type": "code",
      "metadata": {
        "id": "7ELGuWZu428Q",
        "colab_type": "code",
        "colab": {}
      },
      "source": [
        "# Function for labelling the neutral, positive and negative sentiments as integers.\n",
        "def labeller(x):\n",
        "    if x == 'neutral':\n",
        "        return 0\n",
        "    if x == 'positive':\n",
        "        return 1\n",
        "    if x == 'negative':\n",
        "        return 2"
      ],
      "execution_count": 0,
      "outputs": []
    },
    {
      "cell_type": "code",
      "metadata": {
        "id": "6kFgfg7fU7hY",
        "colab_type": "code",
        "outputId": "74a1b93b-b3c6-406f-f0c9-4cbef3be3b86",
        "colab": {
          "base_uri": "https://localhost:8080/",
          "height": 121
        }
      },
      "source": [
        "# Process the labels and change to one-hot vectors.\n",
        "Y_train['label'] = Y_train['label'].apply(lambda x: labeller(x))\n",
        "YTrain = to_categorical(Y_train['label'].values)\n",
        "Y_val['label'] = Y_val['label'].apply(lambda x: labeller(x))\n",
        "YVal = to_categorical(Y_val['label'].values)\n",
        "Y_test['label'] = Y_test['label'].apply(lambda x: labeller(x))\n",
        "YTest = to_categorical(Y_test['label'].values)"
      ],
      "execution_count": 337,
      "outputs": [
        {
          "output_type": "stream",
          "text": [
            "/usr/local/lib/python3.6/dist-packages/ipykernel_launcher.py:5: SettingWithCopyWarning: \n",
            "A value is trying to be set on a copy of a slice from a DataFrame.\n",
            "Try using .loc[row_indexer,col_indexer] = value instead\n",
            "\n",
            "See the caveats in the documentation: https://pandas.pydata.org/pandas-docs/stable/user_guide/indexing.html#returning-a-view-versus-a-copy\n",
            "  \"\"\"\n"
          ],
          "name": "stderr"
        }
      ]
    },
    {
      "cell_type": "markdown",
      "metadata": {
        "id": "maGhbOvYfu_Z",
        "colab_type": "text"
      },
      "source": [
        "# Creating and fitting the model"
      ]
    },
    {
      "cell_type": "markdown",
      "metadata": {
        "id": "B5Hz2tvphKaY",
        "colab_type": "text"
      },
      "source": [
        "# Feed-Forward Network"
      ]
    },
    {
      "cell_type": "code",
      "metadata": {
        "id": "RijjZL1fhIFF",
        "colab_type": "code",
        "colab": {
          "base_uri": "https://localhost:8080/",
          "height": 819
        },
        "outputId": "d52e923d-04ab-41d6-b7a4-2d86abfb777a"
      },
      "source": [
        "# Simple FFN Model.\n",
        "model = Sequential()\n",
        "model.add(Embedding(num_words, embedding_dimension, embeddings_initializer = Constant(embedding_matrix),\n",
        "                    input_length = max_length, trainable = True))\n",
        "model.add(Flatten())\n",
        "model.add(Dense(200, activation = 'relu'))\n",
        "model.add(Dropout(0.2))\n",
        "model.add(Dense(50, activation = 'relu'))\n",
        "model.add(Dropout(0.2))\n",
        "model.add(Dense(3, activation = 'softmax'))\n",
        "model.compile(loss = 'categorical_crossentropy', optimizer = 'adam', metrics = ['accuracy'])\n",
        "model.summary()\n",
        "\n",
        "ffn = model.fit(XTrain, YTrain, batch_size = 256, epochs = 10, validation_data = (XVal, YVal))"
      ],
      "execution_count": 338,
      "outputs": [
        {
          "output_type": "stream",
          "text": [
            "Model: \"sequential_62\"\n",
            "_________________________________________________________________\n",
            "Layer (type)                 Output Shape              Param #   \n",
            "=================================================================\n",
            "embedding_55 (Embedding)     (None, 35, 200)           943000    \n",
            "_________________________________________________________________\n",
            "flatten_9 (Flatten)          (None, 7000)              0         \n",
            "_________________________________________________________________\n",
            "dense_105 (Dense)            (None, 200)               1400200   \n",
            "_________________________________________________________________\n",
            "dropout_114 (Dropout)        (None, 200)               0         \n",
            "_________________________________________________________________\n",
            "dense_106 (Dense)            (None, 50)                10050     \n",
            "_________________________________________________________________\n",
            "dropout_115 (Dropout)        (None, 50)                0         \n",
            "_________________________________________________________________\n",
            "dense_107 (Dense)            (None, 3)                 153       \n",
            "=================================================================\n",
            "Total params: 2,353,403\n",
            "Trainable params: 2,353,403\n",
            "Non-trainable params: 0\n",
            "_________________________________________________________________\n"
          ],
          "name": "stdout"
        },
        {
          "output_type": "stream",
          "text": [
            "/usr/local/lib/python3.6/dist-packages/tensorflow/python/framework/indexed_slices.py:434: UserWarning: Converting sparse IndexedSlices to a dense Tensor of unknown shape. This may consume a large amount of memory.\n",
            "  \"Converting sparse IndexedSlices to a dense Tensor of unknown shape. \"\n"
          ],
          "name": "stderr"
        },
        {
          "output_type": "stream",
          "text": [
            "Train on 9684 samples, validate on 1654 samples\n",
            "Epoch 1/10\n",
            "9684/9684 [==============================] - 3s 309us/step - loss: 1.0174 - accuracy: 0.4646 - val_loss: 1.0329 - val_accuracy: 0.4528\n",
            "Epoch 2/10\n",
            "9684/9684 [==============================] - 3s 290us/step - loss: 0.9878 - accuracy: 0.4927 - val_loss: 1.0190 - val_accuracy: 0.4607\n",
            "Epoch 3/10\n",
            "9684/9684 [==============================] - 3s 287us/step - loss: 0.9633 - accuracy: 0.5141 - val_loss: 1.0100 - val_accuracy: 0.4764\n",
            "Epoch 4/10\n",
            "9684/9684 [==============================] - 3s 290us/step - loss: 0.9176 - accuracy: 0.5433 - val_loss: 0.9739 - val_accuracy: 0.4879\n",
            "Epoch 5/10\n",
            "9684/9684 [==============================] - 3s 295us/step - loss: 0.8359 - accuracy: 0.5982 - val_loss: 0.9590 - val_accuracy: 0.5375\n",
            "Epoch 6/10\n",
            "9684/9684 [==============================] - 3s 289us/step - loss: 0.7145 - accuracy: 0.6696 - val_loss: 0.9810 - val_accuracy: 0.5024\n",
            "Epoch 7/10\n",
            "9684/9684 [==============================] - 3s 288us/step - loss: 0.5843 - accuracy: 0.7411 - val_loss: 0.9585 - val_accuracy: 0.5865\n",
            "Epoch 8/10\n",
            "9684/9684 [==============================] - 3s 286us/step - loss: 0.4255 - accuracy: 0.8299 - val_loss: 1.0346 - val_accuracy: 0.5919\n",
            "Epoch 9/10\n",
            "9684/9684 [==============================] - 3s 289us/step - loss: 0.2830 - accuracy: 0.8951 - val_loss: 1.3634 - val_accuracy: 0.5949\n",
            "Epoch 10/10\n",
            "9684/9684 [==============================] - 3s 289us/step - loss: 0.1992 - accuracy: 0.9329 - val_loss: 1.3571 - val_accuracy: 0.6173\n"
          ],
          "name": "stdout"
        }
      ]
    },
    {
      "cell_type": "code",
      "metadata": {
        "id": "dN5NHYBohH53",
        "colab_type": "code",
        "colab": {
          "base_uri": "https://localhost:8080/",
          "height": 278
        },
        "outputId": "1ed0b827-2e73-440d-87c1-b036f7f771d1"
      },
      "source": [
        "# Present the various metrics.\n",
        "score = model.evaluate(XTest, YTest, batch_size = 256, verbose = 1)\n",
        "print(\"\\nResults for Feed-Forward Neural Network\")\n",
        "print(\"Test Loss: %.2f\" % (score[0]))\n",
        "print(\"Test Accuracy: %.2f%%\" % (score[1] * 100))\n",
        "\n",
        "YPred = model.predict_classes(XTest)\n",
        "print(classification_report(Y_test['label'].values, YPred, target_names = ['Neutral Class', 'Positive Class', 'Negative Class']))"
      ],
      "execution_count": 339,
      "outputs": [
        {
          "output_type": "stream",
          "text": [
            "3547/3547 [==============================] - 0s 65us/step\n",
            "\n",
            "Results for Feed-Forward Neural Network\n",
            "Test Loss: 1.37\n",
            "Test Accuracy: 62.33%\n",
            "                precision    recall  f1-score   support\n",
            "\n",
            " Neutral Class       0.59      0.79      0.67      1513\n",
            "Positive Class       0.70      0.56      0.63      1475\n",
            "Negative Class       0.58      0.33      0.42       559\n",
            "\n",
            "      accuracy                           0.62      3547\n",
            "     macro avg       0.62      0.56      0.57      3547\n",
            "  weighted avg       0.63      0.62      0.61      3547\n",
            "\n"
          ],
          "name": "stdout"
        }
      ]
    },
    {
      "cell_type": "code",
      "metadata": {
        "id": "ASX2Mgwo_fam",
        "colab_type": "code",
        "colab": {
          "base_uri": "https://localhost:8080/",
          "height": 473
        },
        "outputId": "6e0f49c8-cbc9-4dee-eba1-52be31cac661"
      },
      "source": [
        "# Plot the confusion matrix per class.\n",
        "cm = confusion_matrix(Y_test['label'].values, YPred, labels = [0, 1, 2])\n",
        "print(cm)\n",
        "ax = plt.subplot()\n",
        "sns.heatmap(cm, annot = True, ax = ax)\n",
        "ax.set_xlabel('Predicted labels')\n",
        "ax.set_ylabel('True labels')\n",
        "ax.set_title('Confusion Matrix')\n",
        "ax.xaxis.set_ticklabels(['Neutral', 'Positive', 'Negative'])\n",
        "ax.yaxis.set_ticklabels(['Neutral', 'Positive', 'Negative'])"
      ],
      "execution_count": 340,
      "outputs": [
        {
          "output_type": "stream",
          "text": [
            "[[1194  262   57]\n",
            " [ 565  832   78]\n",
            " [ 281   93  185]]\n"
          ],
          "name": "stdout"
        },
        {
          "output_type": "execute_result",
          "data": {
            "text/plain": [
              "[Text(0, 0.5, 'Neutral'), Text(0, 1.5, 'Positive'), Text(0, 2.5, 'Negative')]"
            ]
          },
          "metadata": {
            "tags": []
          },
          "execution_count": 340
        },
        {
          "output_type": "display_data",
          "data": {
            "image/png": "[encoded data removed]",
            "text/plain": [
              "<Figure size 576x432 with 2 Axes>"
            ]
          },
          "metadata": {
            "tags": [],
            "needs_background": "light"
          }
        }
      ]
    },
    {
      "cell_type": "markdown",
      "metadata": {
        "id": "kkIiP2CpNwOR",
        "colab_type": "text"
      },
      "source": [
        "## Recurrent Neural Network"
      ]
    },
    {
      "cell_type": "code",
      "metadata": {
        "id": "wYIs9Zb9oV_J",
        "colab_type": "code",
        "outputId": "c7ca8452-d38a-4eee-9f3c-c3537431c375",
        "colab": {
          "base_uri": "https://localhost:8080/",
          "height": 714
        }
      },
      "source": [
        "# Simple RNN Model.\n",
        "model = Sequential()\n",
        "model.add(Embedding(num_words, embedding_dimension, embeddings_initializer = Constant(embedding_matrix),\n",
        "                    input_length = max_length, trainable = True))\n",
        "model.add(SimpleRNN(200, activation = 'relu', return_sequences = True))\n",
        "model.add(Dropout(0.2))\n",
        "model.add(SimpleRNN(50, activation = 'relu'))\n",
        "model.add(Dropout(0.2))\n",
        "model.add(Dense(3, activation = 'softmax'))\n",
        "model.compile(loss = 'categorical_crossentropy', optimizer = 'adam', metrics = ['accuracy'])\n",
        "model.summary()\n",
        "\n",
        "rnn = model.fit(XTrain, YTrain, batch_size = 256, epochs = 8, validation_data = (XVal, YVal))"
      ],
      "execution_count": 381,
      "outputs": [
        {
          "output_type": "stream",
          "text": [
            "Model: \"sequential_79\"\n",
            "_________________________________________________________________\n",
            "Layer (type)                 Output Shape              Param #   \n",
            "=================================================================\n",
            "embedding_72 (Embedding)     (None, 35, 200)           943000    \n",
            "_________________________________________________________________\n",
            "simple_rnn_63 (SimpleRNN)    (None, 35, 200)           80200     \n",
            "_________________________________________________________________\n",
            "dropout_148 (Dropout)        (None, 35, 200)           0         \n",
            "_________________________________________________________________\n",
            "simple_rnn_64 (SimpleRNN)    (None, 50)                12550     \n",
            "_________________________________________________________________\n",
            "dropout_149 (Dropout)        (None, 50)                0         \n",
            "_________________________________________________________________\n",
            "dense_124 (Dense)            (None, 3)                 153       \n",
            "=================================================================\n",
            "Total params: 1,035,903\n",
            "Trainable params: 1,035,903\n",
            "Non-trainable params: 0\n",
            "_________________________________________________________________\n"
          ],
          "name": "stdout"
        },
        {
          "output_type": "stream",
          "text": [
            "/usr/local/lib/python3.6/dist-packages/tensorflow/python/framework/indexed_slices.py:434: UserWarning: Converting sparse IndexedSlices to a dense Tensor of unknown shape. This may consume a large amount of memory.\n",
            "  \"Converting sparse IndexedSlices to a dense Tensor of unknown shape. \"\n"
          ],
          "name": "stderr"
        },
        {
          "output_type": "stream",
          "text": [
            "Train on 9684 samples, validate on 1654 samples\n",
            "Epoch 1/8\n",
            "9684/9684 [==============================] - 8s 875us/step - loss: 1.0230 - accuracy: 0.4592 - val_loss: 1.0525 - val_accuracy: 0.4456\n",
            "Epoch 2/8\n",
            "9684/9684 [==============================] - 8s 814us/step - loss: 0.9930 - accuracy: 0.4932 - val_loss: 1.0303 - val_accuracy: 0.4667\n",
            "Epoch 3/8\n",
            "9684/9684 [==============================] - 8s 810us/step - loss: 0.9618 - accuracy: 0.5325 - val_loss: 1.0299 - val_accuracy: 0.4504\n",
            "Epoch 4/8\n",
            "9684/9684 [==============================] - 8s 815us/step - loss: 0.9039 - accuracy: 0.5881 - val_loss: 0.9976 - val_accuracy: 0.5411\n",
            "Epoch 5/8\n",
            "9684/9684 [==============================] - 8s 827us/step - loss: 0.7855 - accuracy: 0.6732 - val_loss: 0.9591 - val_accuracy: 0.5804\n",
            "Epoch 6/8\n",
            "9684/9684 [==============================] - 8s 823us/step - loss: 0.6871 - accuracy: 0.7137 - val_loss: 0.9756 - val_accuracy: 0.5804\n",
            "Epoch 7/8\n",
            "9684/9684 [==============================] - 8s 820us/step - loss: 0.6314 - accuracy: 0.7345 - val_loss: 1.0940 - val_accuracy: 0.5780\n",
            "Epoch 8/8\n",
            "9684/9684 [==============================] - 9s 946us/step - loss: 0.5944 - accuracy: 0.7411 - val_loss: 1.0715 - val_accuracy: 0.5659\n"
          ],
          "name": "stdout"
        }
      ]
    },
    {
      "cell_type": "code",
      "metadata": {
        "id": "VHFS0omLxLmB",
        "colab_type": "code",
        "outputId": "1e97a907-d030-4748-a69b-b576cfa49e29",
        "colab": {
          "base_uri": "https://localhost:8080/",
          "height": 332
        }
      },
      "source": [
        "# Present the various metrics.\n",
        "score = model.evaluate(XTest, YTest, batch_size = 256, verbose = 1)\n",
        "print(\"\\nResults for Recurrent Neural Network\")\n",
        "print(\"Test Loss: %.2f\" % (score[0]))\n",
        "print(\"Test Accuracy: %.2f%%\" % (score[1] * 100))\n",
        "\n",
        "YPred = model.predict_classes(XTest)\n",
        "print(classification_report(Y_test['label'].values, YPred, target_names = ['Neutral Class', 'Positive Class', 'Negative Class']))"
      ],
      "execution_count": 382,
      "outputs": [
        {
          "output_type": "stream",
          "text": [
            "3547/3547 [==============================] - 1s 395us/step\n",
            "\n",
            "Results for Recurrent Neural Network\n",
            "Test Loss: 0.99\n",
            "Test Accuracy: 61.77%\n",
            "                precision    recall  f1-score   support\n",
            "\n",
            " Neutral Class       0.59      0.81      0.68      1513\n",
            "Positive Class       0.65      0.65      0.65      1475\n",
            "Negative Class       0.00      0.00      0.00       559\n",
            "\n",
            "      accuracy                           0.62      3547\n",
            "     macro avg       0.42      0.49      0.45      3547\n",
            "  weighted avg       0.52      0.62      0.56      3547\n",
            "\n"
          ],
          "name": "stdout"
        },
        {
          "output_type": "stream",
          "text": [
            "/usr/local/lib/python3.6/dist-packages/sklearn/metrics/_classification.py:1272: UndefinedMetricWarning: Precision and F-score are ill-defined and being set to 0.0 in labels with no predicted samples. Use `zero_division` parameter to control this behavior.\n",
            "  _warn_prf(average, modifier, msg_start, len(result))\n"
          ],
          "name": "stderr"
        }
      ]
    },
    {
      "cell_type": "code",
      "metadata": {
        "id": "cFlx-sezG8Rw",
        "colab_type": "code",
        "colab": {
          "base_uri": "https://localhost:8080/",
          "height": 473
        },
        "outputId": "3c69e633-714c-44be-c707-8732a5732d7b"
      },
      "source": [
        "# Plot the confusion matrix per class.\n",
        "cm = confusion_matrix(Y_test['label'].values, YPred, labels = [0, 1, 2])\n",
        "print(cm)\n",
        "ax = plt.subplot()\n",
        "sns.heatmap(cm, annot = True, ax = ax)\n",
        "ax.set_xlabel('Predicted labels')\n",
        "ax.set_ylabel('True labels')\n",
        "ax.set_title('Confusion Matrix')\n",
        "ax.xaxis.set_ticklabels(['Neutral', 'Positive', 'Negative'])\n",
        "ax.yaxis.set_ticklabels(['Neutral', 'Positive', 'Negative'])"
      ],
      "execution_count": 383,
      "outputs": [
        {
          "output_type": "stream",
          "text": [
            "[[1225  288    0]\n",
            " [ 509  966    0]\n",
            " [ 333  226    0]]\n"
          ],
          "name": "stdout"
        },
        {
          "output_type": "execute_result",
          "data": {
            "text/plain": [
              "[Text(0, 0.5, 'Neutral'), Text(0, 1.5, 'Positive'), Text(0, 2.5, 'Negative')]"
            ]
          },
          "metadata": {
            "tags": []
          },
          "execution_count": 383
        },
        {
          "output_type": "display_data",
          "data": {
            "image/png": "[encoded data removed]",
            "text/plain": [
              "<Figure size 576x432 with 2 Axes>"
            ]
          },
          "metadata": {
            "tags": [],
            "needs_background": "light"
          }
        }
      ]
    },
    {
      "cell_type": "markdown",
      "metadata": {
        "id": "fg04mqe1WzlT",
        "colab_type": "text"
      },
      "source": [
        "## Gated Recurrent Neural Network"
      ]
    },
    {
      "cell_type": "code",
      "metadata": {
        "id": "qAJ_Aqn2Wii7",
        "colab_type": "code",
        "colab": {
          "base_uri": "https://localhost:8080/",
          "height": 784
        },
        "outputId": "04d37363-c0c0-4489-d528-ff7d3fb458fa"
      },
      "source": [
        "# Simple GRNN Model.\n",
        "model = Sequential()\n",
        "model.add(Embedding(num_words, embedding_dimension, embeddings_initializer = Constant(embedding_matrix),\n",
        "                    input_length = max_length, trainable = True))\n",
        "model.add(GRU(200, activation = 'relu', return_sequences = True))\n",
        "model.add(Dropout(0.2))\n",
        "model.add(GRU(100, activation = 'relu'))\n",
        "model.add(Dropout(0.2))\n",
        "model.add(Dense(3, activation = 'softmax'))\n",
        "model.compile(loss = 'categorical_crossentropy', optimizer = 'adam', metrics = ['accuracy'])\n",
        "model.summary()\n",
        "\n",
        "gru = model.fit(XTrain, YTrain, batch_size = 256, epochs = 10, validation_data = (XVal, YVal))"
      ],
      "execution_count": 367,
      "outputs": [
        {
          "output_type": "stream",
          "text": [
            "Model: \"sequential_73\"\n",
            "_________________________________________________________________\n",
            "Layer (type)                 Output Shape              Param #   \n",
            "=================================================================\n",
            "embedding_66 (Embedding)     (None, 35, 200)           943000    \n",
            "_________________________________________________________________\n",
            "gru_11 (GRU)                 (None, 35, 200)           240600    \n",
            "_________________________________________________________________\n",
            "dropout_136 (Dropout)        (None, 35, 200)           0         \n",
            "_________________________________________________________________\n",
            "gru_12 (GRU)                 (None, 100)               90300     \n",
            "_________________________________________________________________\n",
            "dropout_137 (Dropout)        (None, 100)               0         \n",
            "_________________________________________________________________\n",
            "dense_118 (Dense)            (None, 3)                 303       \n",
            "=================================================================\n",
            "Total params: 1,274,203\n",
            "Trainable params: 1,274,203\n",
            "Non-trainable params: 0\n",
            "_________________________________________________________________\n"
          ],
          "name": "stdout"
        },
        {
          "output_type": "stream",
          "text": [
            "/usr/local/lib/python3.6/dist-packages/tensorflow/python/framework/indexed_slices.py:434: UserWarning: Converting sparse IndexedSlices to a dense Tensor of unknown shape. This may consume a large amount of memory.\n",
            "  \"Converting sparse IndexedSlices to a dense Tensor of unknown shape. \"\n"
          ],
          "name": "stderr"
        },
        {
          "output_type": "stream",
          "text": [
            "Train on 9684 samples, validate on 1654 samples\n",
            "Epoch 1/10\n",
            "9684/9684 [==============================] - 30s 3ms/step - loss: 1.0293 - accuracy: 0.4673 - val_loss: 1.0568 - val_accuracy: 0.4468\n",
            "Epoch 2/10\n",
            "9684/9684 [==============================] - 29s 3ms/step - loss: 1.0027 - accuracy: 0.4771 - val_loss: 1.0382 - val_accuracy: 0.4607\n",
            "Epoch 3/10\n",
            "9684/9684 [==============================] - 29s 3ms/step - loss: 0.9864 - accuracy: 0.4983 - val_loss: 1.0208 - val_accuracy: 0.4667\n",
            "Epoch 4/10\n",
            "9684/9684 [==============================] - 29s 3ms/step - loss: 0.9589 - accuracy: 0.5246 - val_loss: 0.9904 - val_accuracy: 0.5018\n",
            "Epoch 5/10\n",
            "9684/9684 [==============================] - 29s 3ms/step - loss: 0.8756 - accuracy: 0.5994 - val_loss: 0.9663 - val_accuracy: 0.5441\n",
            "Epoch 6/10\n",
            "9684/9684 [==============================] - 32s 3ms/step - loss: 0.7354 - accuracy: 0.6835 - val_loss: 0.9220 - val_accuracy: 0.5798\n",
            "Epoch 7/10\n",
            "9684/9684 [==============================] - 29s 3ms/step - loss: 0.6572 - accuracy: 0.7285 - val_loss: 1.0096 - val_accuracy: 0.5496\n",
            "Epoch 8/10\n",
            "9684/9684 [==============================] - 29s 3ms/step - loss: 0.5840 - accuracy: 0.7488 - val_loss: 1.1749 - val_accuracy: 0.5423\n",
            "Epoch 9/10\n",
            "9684/9684 [==============================] - 29s 3ms/step - loss: 0.5297 - accuracy: 0.7694 - val_loss: 1.1478 - val_accuracy: 0.5750\n",
            "Epoch 10/10\n",
            "9684/9684 [==============================] - 29s 3ms/step - loss: 0.4875 - accuracy: 0.7870 - val_loss: 1.2978 - val_accuracy: 0.5792\n"
          ],
          "name": "stdout"
        }
      ]
    },
    {
      "cell_type": "code",
      "metadata": {
        "id": "F-q4vmH1WieL",
        "colab_type": "code",
        "colab": {
          "base_uri": "https://localhost:8080/",
          "height": 278
        },
        "outputId": "ad193b12-f124-44bf-b40c-cf00054750cb"
      },
      "source": [
        "# Present the various metrics.\n",
        "score = model.evaluate(XTest, YTest, batch_size = 256, verbose = 1)\n",
        "print(\"\\nResults for Gated Recurrent Neural Network\")\n",
        "print(\"Test Loss: %.2f\" % (score[0]))\n",
        "print(\"Test Accuracy: %.2f%%\" % (score[1] * 100))\n",
        "\n",
        "YPred = model.predict_classes(XTest)\n",
        "print(classification_report(Y_test['label'].values, YPred, target_names = ['Neutral Class', 'Positive Class', 'Negative Class']))"
      ],
      "execution_count": 368,
      "outputs": [
        {
          "output_type": "stream",
          "text": [
            "3547/3547 [==============================] - 2s 655us/step\n",
            "\n",
            "Results for Gated Recurrent Neural Network\n",
            "Test Loss: 1.21\n",
            "Test Accuracy: 62.11%\n",
            "                precision    recall  f1-score   support\n",
            "\n",
            " Neutral Class       0.63      0.74      0.68      1513\n",
            "Positive Class       0.64      0.65      0.64      1475\n",
            "Negative Class       0.48      0.25      0.32       559\n",
            "\n",
            "      accuracy                           0.62      3547\n",
            "     macro avg       0.58      0.54      0.55      3547\n",
            "  weighted avg       0.61      0.62      0.61      3547\n",
            "\n"
          ],
          "name": "stdout"
        }
      ]
    },
    {
      "cell_type": "code",
      "metadata": {
        "id": "rkrG4zDjG_y1",
        "colab_type": "code",
        "colab": {
          "base_uri": "https://localhost:8080/",
          "height": 473
        },
        "outputId": "780f53db-eb0d-46ee-ac40-f52d8f53aa4d"
      },
      "source": [
        "# Plot the confusion matrix per class.\n",
        "cm = confusion_matrix(Y_test['label'].values, YPred, labels = [0, 1, 2])\n",
        "print(cm)\n",
        "ax = plt.subplot()\n",
        "sns.heatmap(cm, annot = True, ax = ax)\n",
        "ax.set_xlabel('Predicted labels')\n",
        "ax.set_ylabel('True labels')\n",
        "ax.set_title('Confusion Matrix')\n",
        "ax.xaxis.set_ticklabels(['Neutral', 'Positive', 'Negative'])\n",
        "ax.yaxis.set_ticklabels(['Neutral', 'Positive', 'Negative'])"
      ],
      "execution_count": 369,
      "outputs": [
        {
          "output_type": "stream",
          "text": [
            "[[1113  352   48]\n",
            " [ 422  953  100]\n",
            " [ 233  189  137]]\n"
          ],
          "name": "stdout"
        },
        {
          "output_type": "execute_result",
          "data": {
            "text/plain": [
              "[Text(0, 0.5, 'Neutral'), Text(0, 1.5, 'Positive'), Text(0, 2.5, 'Negative')]"
            ]
          },
          "metadata": {
            "tags": []
          },
          "execution_count": 369
        },
        {
          "output_type": "display_data",
          "data": {
            "image/png": "[encoded data removed]",
            "text/plain": [
              "<Figure size 576x432 with 2 Axes>"
            ]
          },
          "metadata": {
            "tags": [],
            "needs_background": "light"
          }
        }
      ]
    },
    {
      "cell_type": "markdown",
      "metadata": {
        "id": "D_9t36cpNs6k",
        "colab_type": "text"
      },
      "source": [
        "## Long Short Term Memory Network"
      ]
    },
    {
      "cell_type": "code",
      "metadata": {
        "id": "Hi5MAaLVFTVI",
        "colab_type": "code",
        "outputId": "b77126c0-1a16-497b-cfe3-775fa0d0ebfa",
        "colab": {
          "base_uri": "https://localhost:8080/",
          "height": 610
        }
      },
      "source": [
        "# Simple LSTM Model.\n",
        "model = Sequential()\n",
        "model.add(Embedding(num_words, embedding_dimension, embeddings_initializer = Constant(embedding_matrix),\n",
        "                    input_length = max_length, trainable = True))\n",
        "model.add(LSTM(200, activation = 'relu', return_sequences = True))\n",
        "model.add(Dropout(0.2))\n",
        "model.add(LSTM(100, activation = 'relu'))\n",
        "model.add(Dropout(0.2))\n",
        "model.add(Dense(3, activation = 'softmax'))\n",
        "model.compile(loss = 'categorical_crossentropy', optimizer = 'adam', metrics = ['accuracy'])\n",
        "model.summary()\n",
        "\n",
        "lstm = model.fit(XTrain, YTrain, batch_size = 256, epochs = 5, validation_data = (XVal, YVal))"
      ],
      "execution_count": 372,
      "outputs": [
        {
          "output_type": "stream",
          "text": [
            "Model: \"sequential_76\"\n",
            "_________________________________________________________________\n",
            "Layer (type)                 Output Shape              Param #   \n",
            "=================================================================\n",
            "embedding_69 (Embedding)     (None, 35, 200)           943000    \n",
            "_________________________________________________________________\n",
            "lstm_24 (LSTM)               (None, 35, 200)           320800    \n",
            "_________________________________________________________________\n",
            "dropout_142 (Dropout)        (None, 35, 200)           0         \n",
            "_________________________________________________________________\n",
            "lstm_25 (LSTM)               (None, 100)               120400    \n",
            "_________________________________________________________________\n",
            "dropout_143 (Dropout)        (None, 100)               0         \n",
            "_________________________________________________________________\n",
            "dense_121 (Dense)            (None, 3)                 303       \n",
            "=================================================================\n",
            "Total params: 1,384,503\n",
            "Trainable params: 1,384,503\n",
            "Non-trainable params: 0\n",
            "_________________________________________________________________\n"
          ],
          "name": "stdout"
        },
        {
          "output_type": "stream",
          "text": [
            "/usr/local/lib/python3.6/dist-packages/tensorflow/python/framework/indexed_slices.py:434: UserWarning: Converting sparse IndexedSlices to a dense Tensor of unknown shape. This may consume a large amount of memory.\n",
            "  \"Converting sparse IndexedSlices to a dense Tensor of unknown shape. \"\n"
          ],
          "name": "stderr"
        },
        {
          "output_type": "stream",
          "text": [
            "Train on 9684 samples, validate on 1654 samples\n",
            "Epoch 1/5\n",
            "9684/9684 [==============================] - 32s 3ms/step - loss: 1.0177 - accuracy: 0.4633 - val_loss: 1.0304 - val_accuracy: 0.4589\n",
            "Epoch 2/5\n",
            "9684/9684 [==============================] - 31s 3ms/step - loss: 0.9836 - accuracy: 0.4975 - val_loss: 1.0504 - val_accuracy: 0.4504\n",
            "Epoch 3/5\n",
            "9684/9684 [==============================] - 31s 3ms/step - loss: 0.9465 - accuracy: 0.5354 - val_loss: 0.9791 - val_accuracy: 0.5048\n",
            "Epoch 4/5\n",
            "9684/9684 [==============================] - 31s 3ms/step - loss: 0.8423 - accuracy: 0.6169 - val_loss: 0.9611 - val_accuracy: 0.5502\n",
            "Epoch 5/5\n",
            "9684/9684 [==============================] - 31s 3ms/step - loss: 0.7228 - accuracy: 0.6864 - val_loss: 1.0118 - val_accuracy: 0.5744\n"
          ],
          "name": "stdout"
        }
      ]
    },
    {
      "cell_type": "code",
      "metadata": {
        "id": "girPnK_tFhBg",
        "colab_type": "code",
        "outputId": "333e3805-02c8-4b76-a686-ccfcf52e8a6a",
        "colab": {
          "base_uri": "https://localhost:8080/",
          "height": 332
        }
      },
      "source": [
        "# Present the various metrics.\n",
        "score = model.evaluate(XTest, YTest, batch_size = 256, verbose = 1)\n",
        "print(\"\\nResults for Long Short Term Memory Network\")\n",
        "print(\"Test Loss: %.2f\" % (score[0]))\n",
        "print(\"Test Accuracy: %.2f%%\" % (score[1] * 100))\n",
        "\n",
        "YPred = model.predict_classes(XTest)\n",
        "print(classification_report(Y_test['label'].values, YPred, target_names = ['Neutral Class', 'Positive Class', 'Negative Class']))"
      ],
      "execution_count": 373,
      "outputs": [
        {
          "output_type": "stream",
          "text": [
            "3547/3547 [==============================] - 3s 781us/step\n",
            "\n",
            "Results for Long Short Term Memory Network\n",
            "Test Loss: 0.96\n",
            "Test Accuracy: 61.77%\n",
            "                precision    recall  f1-score   support\n",
            "\n",
            " Neutral Class       0.62      0.80      0.70      1513\n",
            "Positive Class       0.62      0.67      0.64      1475\n",
            "Negative Class       0.00      0.00      0.00       559\n",
            "\n",
            "      accuracy                           0.62      3547\n",
            "     macro avg       0.41      0.49      0.45      3547\n",
            "  weighted avg       0.52      0.62      0.56      3547\n",
            "\n"
          ],
          "name": "stdout"
        },
        {
          "output_type": "stream",
          "text": [
            "/usr/local/lib/python3.6/dist-packages/sklearn/metrics/_classification.py:1272: UndefinedMetricWarning: Precision and F-score are ill-defined and being set to 0.0 in labels with no predicted samples. Use `zero_division` parameter to control this behavior.\n",
            "  _warn_prf(average, modifier, msg_start, len(result))\n"
          ],
          "name": "stderr"
        }
      ]
    },
    {
      "cell_type": "code",
      "metadata": {
        "id": "lYWJX-v_xXKG",
        "colab_type": "code",
        "colab": {
          "base_uri": "https://localhost:8080/",
          "height": 473
        },
        "outputId": "8fb94a2a-e8b8-4e2e-d4b2-6a5a69d85c7b"
      },
      "source": [
        "# Plot the confusion matrix per class.\n",
        "cm = confusion_matrix(Y_test['label'].values, YPred, labels = [0, 1, 2])\n",
        "print(cm)\n",
        "ax = plt.subplot()\n",
        "sns.heatmap(cm, annot = True, ax = ax)\n",
        "ax.set_xlabel('Predicted labels')\n",
        "ax.set_ylabel('True labels')\n",
        "ax.set_title('Confusion Matrix')\n",
        "ax.xaxis.set_ticklabels(['Neutral', 'Positive', 'Negative'])\n",
        "ax.yaxis.set_ticklabels(['Neutral', 'Positive', 'Negative'])"
      ],
      "execution_count": 374,
      "outputs": [
        {
          "output_type": "stream",
          "text": [
            "[[1209  304    0]\n",
            " [ 493  982    0]\n",
            " [ 256  303    0]]\n"
          ],
          "name": "stdout"
        },
        {
          "output_type": "execute_result",
          "data": {
            "text/plain": [
              "[Text(0, 0.5, 'Neutral'), Text(0, 1.5, 'Positive'), Text(0, 2.5, 'Negative')]"
            ]
          },
          "metadata": {
            "tags": []
          },
          "execution_count": 374
        },
        {
          "output_type": "display_data",
          "data": {
            "image/png": "[encoded data removed]",
            "text/plain": [
              "<Figure size 576x432 with 2 Axes>"
            ]
          },
          "metadata": {
            "tags": [],
            "needs_background": "light"
          }
        }
      ]
    }
  ]
}